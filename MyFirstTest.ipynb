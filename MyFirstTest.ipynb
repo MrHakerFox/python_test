{
 "cells": [
  {
   "cell_type": "code",
   "execution_count": 6,
   "id": "38311f54-0879-4d67-a4c5-5cb3c6e2ffbf",
   "metadata": {},
   "outputs": [
    {
     "name": "stdout",
     "output_type": "stream",
     "text": [
      "Hellooo World\n"
     ]
    }
   ],
   "source": [
    "print( 'Hellooo World' )"
   ]
  },
  {
   "cell_type": "code",
   "execution_count": 8,
   "id": "524f306a-6179-4a5c-8b15-242c8ae0612e",
   "metadata": {},
   "outputs": [],
   "source": [
    "exit()"
   ]
  },
  {
   "cell_type": "code",
   "execution_count": 2,
   "id": "d19aa4a4-0f6b-4bcc-a570-68c649abedb6",
   "metadata": {},
   "outputs": [],
   "source": [
    "import pandas as pd\n",
    "q = 1"
   ]
  },
  {
   "cell_type": "code",
   "execution_count": 4,
   "id": "cb48b7c6-c319-4f0f-9159-588392ba97ee",
   "metadata": {},
   "outputs": [],
   "source": [
    "if q == 5:\n",
    "    q = 1"
   ]
  },
  {
   "cell_type": "code",
   "execution_count": null,
   "id": "dee0a198-e1e3-492d-aba6-a996fa8507ae",
   "metadata": {},
   "outputs": [],
   "source": []
  }
 ],
 "metadata": {
  "kernelspec": {
   "display_name": "Python 3 (ipykernel)",
   "language": "python",
   "name": "python3"
  },
  "language_info": {
   "codemirror_mode": {
    "name": "ipython",
    "version": 3
   },
   "file_extension": ".py",
   "mimetype": "text/x-python",
   "name": "python",
   "nbconvert_exporter": "python",
   "pygments_lexer": "ipython3",
   "version": "3.11.4"
  }
 },
 "nbformat": 4,
 "nbformat_minor": 5
}
