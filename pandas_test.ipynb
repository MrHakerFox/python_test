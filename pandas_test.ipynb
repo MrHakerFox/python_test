{
 "cells": [
  {
   "cell_type": "code",
   "execution_count": 1,
   "id": "7f5873b1-f92c-41ab-b5f2-50b86e28ec4e",
   "metadata": {},
   "outputs": [],
   "source": [
    "import numpy as np\n",
    "import pandas as pd"
   ]
  },
  {
   "cell_type": "code",
   "execution_count": 2,
   "id": "b192cc17-82b7-47aa-9cd2-b11272ed20e2",
   "metadata": {},
   "outputs": [
    {
     "data": {
      "text/plain": [
       "0        Pandas\n",
       "1    Matplotlib\n",
       "2         Numpy\n",
       "dtype: object"
      ]
     },
     "execution_count": 2,
     "metadata": {},
     "output_type": "execute_result"
    }
   ],
   "source": [
    "data = ['Pandas', 'Matplotlib', 'Numpy']\n",
    "s = pd.Series(data)\n",
    "s"
   ]
  },
  {
   "cell_type": "code",
   "execution_count": 3,
   "id": "452b43cb-42d6-4c43-aaff-63ff61161646",
   "metadata": {},
   "outputs": [
    {
     "data": {
      "text/plain": [
       "a      3\n",
       "bb    -5\n",
       "sdf    7\n",
       "c      4\n",
       "dtype: int64"
      ]
     },
     "execution_count": 3,
     "metadata": {},
     "output_type": "execute_result"
    }
   ],
   "source": [
    "s= pd.Series([3, -5, 7, 4], index =['a', 'bb', 'sdf', 'c'])\n",
    "s"
   ]
  },
  {
   "cell_type": "code",
   "execution_count": 4,
   "id": "3424fc52-2ed5-4b20-b10f-fa3b4d05b805",
   "metadata": {},
   "outputs": [
    {
     "data": {
      "text/plain": [
       "Index(['a', 'bb', 'sdf', 'c'], dtype='object')"
      ]
     },
     "execution_count": 4,
     "metadata": {},
     "output_type": "execute_result"
    }
   ],
   "source": [
    "s.index"
   ]
  },
  {
   "cell_type": "code",
   "execution_count": 5,
   "id": "ac21bc7f-ff62-42e6-83c8-c0bb6908475e",
   "metadata": {},
   "outputs": [],
   "source": [
    "g = {'q':1, 'p':2, 'r':3}"
   ]
  },
  {
   "cell_type": "code",
   "execution_count": 6,
   "id": "cc229aaa-42a9-437d-a956-75ed9a4e51e3",
   "metadata": {},
   "outputs": [
    {
     "data": {
      "text/plain": [
       "{'q': 1, 'p': 2, 'r': 3}"
      ]
     },
     "execution_count": 6,
     "metadata": {},
     "output_type": "execute_result"
    }
   ],
   "source": [
    "g"
   ]
  },
  {
   "cell_type": "code",
   "execution_count": 7,
   "id": "d2e99360-6ec6-46b3-8f64-7b23231dbbef",
   "metadata": {},
   "outputs": [],
   "source": [
    "gs = pd.Series(g)"
   ]
  },
  {
   "cell_type": "code",
   "execution_count": 8,
   "id": "b17e145f-5aab-4e9b-a5d9-9ec5c494722b",
   "metadata": {},
   "outputs": [
    {
     "data": {
      "text/plain": [
       "q    1\n",
       "p    2\n",
       "r    3\n",
       "dtype: int64"
      ]
     },
     "execution_count": 8,
     "metadata": {},
     "output_type": "execute_result"
    }
   ],
   "source": [
    "gs"
   ]
  },
  {
   "cell_type": "code",
   "execution_count": 9,
   "id": "cc5a60ab-8626-421d-ac44-7d738a6173fd",
   "metadata": {},
   "outputs": [
    {
     "data": {
      "text/plain": [
       "dtype('int64')"
      ]
     },
     "execution_count": 9,
     "metadata": {},
     "output_type": "execute_result"
    }
   ],
   "source": [
    "gs.dtype"
   ]
  },
  {
   "cell_type": "code",
   "execution_count": 10,
   "id": "88513c2b-e285-4028-94fb-dca8da95e940",
   "metadata": {},
   "outputs": [
    {
     "data": {
      "text/plain": [
       "(3,)"
      ]
     },
     "execution_count": 10,
     "metadata": {},
     "output_type": "execute_result"
    }
   ],
   "source": [
    "gs.shape"
   ]
  },
  {
   "cell_type": "code",
   "execution_count": 11,
   "id": "62bddff5-12f9-41a3-82ff-39fa1836cfad",
   "metadata": {},
   "outputs": [
    {
     "data": {
      "text/plain": [
       "1"
      ]
     },
     "execution_count": 11,
     "metadata": {},
     "output_type": "execute_result"
    }
   ],
   "source": [
    "gs.ndim"
   ]
  },
  {
   "cell_type": "code",
   "execution_count": 12,
   "id": "aee7760b-ddaa-4b6a-95e6-3a4e1265d5bc",
   "metadata": {},
   "outputs": [
    {
     "data": {
      "text/plain": [
       "3"
      ]
     },
     "execution_count": 12,
     "metadata": {},
     "output_type": "execute_result"
    }
   ],
   "source": [
    "gs.size"
   ]
  },
  {
   "cell_type": "code",
   "execution_count": 13,
   "id": "2733cb45-3291-41de-81a2-bed4a75c70c7",
   "metadata": {},
   "outputs": [
    {
     "data": {
      "text/plain": [
       "array([1, 2, 3], dtype=int64)"
      ]
     },
     "execution_count": 13,
     "metadata": {},
     "output_type": "execute_result"
    }
   ],
   "source": [
    "gs.to_numpy()"
   ]
  },
  {
   "cell_type": "code",
   "execution_count": 14,
   "id": "618ed203-549f-4e4b-be87-c6ed018813b1",
   "metadata": {},
   "outputs": [
    {
     "data": {
      "text/plain": [
       "q    1\n",
       "p    2\n",
       "r    3\n",
       "dtype: int64"
      ]
     },
     "execution_count": 14,
     "metadata": {},
     "output_type": "execute_result"
    }
   ],
   "source": [
    "gs"
   ]
  },
  {
   "cell_type": "code",
   "execution_count": 15,
   "id": "dd7693d5-ea4d-4df8-b965-2ba8058d834d",
   "metadata": {},
   "outputs": [
    {
     "data": {
      "text/plain": [
       "p    2\n",
       "r    3\n",
       "dtype: int64"
      ]
     },
     "execution_count": 15,
     "metadata": {},
     "output_type": "execute_result"
    }
   ],
   "source": [
    "gs[1:5]"
   ]
  },
  {
   "cell_type": "markdown",
   "id": "7949d6fd-9c9a-4cf5-86d9-30175d667d69",
   "metadata": {},
   "source": [
    "gs[1:3]"
   ]
  },
  {
   "cell_type": "code",
   "execution_count": 16,
   "id": "69bca792-6e13-4d3d-a32d-78077003db9d",
   "metadata": {},
   "outputs": [
    {
     "data": {
      "text/plain": [
       "p    2\n",
       "r    3\n",
       "dtype: int64"
      ]
     },
     "execution_count": 16,
     "metadata": {},
     "output_type": "execute_result"
    }
   ],
   "source": [
    "gs[1:3]"
   ]
  },
  {
   "cell_type": "code",
   "execution_count": 17,
   "id": "e800b258-6661-4531-a5ad-d1a5548b8757",
   "metadata": {},
   "outputs": [
    {
     "data": {
      "text/plain": [
       "q    1\n",
       "p    2\n",
       "dtype: int64"
      ]
     },
     "execution_count": 17,
     "metadata": {},
     "output_type": "execute_result"
    }
   ],
   "source": [
    "gs[0:2]"
   ]
  },
  {
   "cell_type": "code",
   "execution_count": 18,
   "id": "66bb9961-c991-4be7-8f72-3175382ec5cb",
   "metadata": {},
   "outputs": [
    {
     "data": {
      "text/plain": [
       "q    1\n",
       "p    2\n",
       "r    3\n",
       "dtype: int64"
      ]
     },
     "execution_count": 18,
     "metadata": {},
     "output_type": "execute_result"
    }
   ],
   "source": [
    "gs[0:3]"
   ]
  },
  {
   "cell_type": "code",
   "execution_count": 19,
   "id": "12e8adb0-84ac-4ac1-9004-470bd8adc5c2",
   "metadata": {},
   "outputs": [
    {
     "data": {
      "text/plain": [
       "q    1\n",
       "p    2\n",
       "r    3\n",
       "dtype: int64"
      ]
     },
     "execution_count": 19,
     "metadata": {},
     "output_type": "execute_result"
    }
   ],
   "source": [
    "gs[gs>-7]"
   ]
  },
  {
   "cell_type": "code",
   "execution_count": 20,
   "id": "8a14fadd-5f7c-4ce5-8dd6-0580c2a74f8c",
   "metadata": {},
   "outputs": [
    {
     "data": {
      "text/plain": [
       "q    1\n",
       "p    2\n",
       "r    3\n",
       "dtype: int64"
      ]
     },
     "execution_count": 20,
     "metadata": {},
     "output_type": "execute_result"
    }
   ],
   "source": [
    "gs"
   ]
  },
  {
   "cell_type": "code",
   "execution_count": 21,
   "id": "0a5f5187-2dce-4f5d-be81-5eed60e12044",
   "metadata": {},
   "outputs": [
    {
     "data": {
      "text/plain": [
       "2"
      ]
     },
     "execution_count": 21,
     "metadata": {},
     "output_type": "execute_result"
    }
   ],
   "source": [
    "gs['p']"
   ]
  },
  {
   "cell_type": "code",
   "execution_count": 22,
   "id": "3b4eb573-9395-492a-bced-232e6e92c88c",
   "metadata": {},
   "outputs": [
    {
     "data": {
      "text/plain": [
       "[0, 1, 2, 3, 4, 5, 6, 7, 8, 9]"
      ]
     },
     "execution_count": 22,
     "metadata": {},
     "output_type": "execute_result"
    }
   ],
   "source": [
    "numbers = [x for x in range(0, 10)]\n",
    "numbers"
   ]
  },
  {
   "cell_type": "code",
   "execution_count": 23,
   "id": "e272999f-4f3e-4c85-a440-a2874623f8de",
   "metadata": {},
   "outputs": [
    {
     "data": {
      "text/plain": [
       "0    0\n",
       "1    1\n",
       "2    2\n",
       "3    3\n",
       "4    4\n",
       "5    5\n",
       "6    6\n",
       "7    7\n",
       "8    8\n",
       "9    9\n",
       "dtype: int64"
      ]
     },
     "execution_count": 23,
     "metadata": {},
     "output_type": "execute_result"
    }
   ],
   "source": [
    "nnn = pd.Series(numbers)\n",
    "nnn"
   ]
  },
  {
   "cell_type": "code",
   "execution_count": 24,
   "id": "02f9618b-80de-4ed0-ade3-9a6982efcaad",
   "metadata": {},
   "outputs": [
    {
     "data": {
      "text/plain": [
       "0     0\n",
       "1     1\n",
       "2     4\n",
       "3     9\n",
       "4    16\n",
       "5    25\n",
       "6    36\n",
       "7    49\n",
       "8    64\n",
       "9    81\n",
       "dtype: int64"
      ]
     },
     "execution_count": 24,
     "metadata": {},
     "output_type": "execute_result"
    }
   ],
   "source": [
    "nnn ** 2"
   ]
  },
  {
   "cell_type": "code",
   "execution_count": 25,
   "id": "472a9c54-4c6c-4445-b877-41a51d5cae10",
   "metadata": {},
   "outputs": [
    {
     "name": "stdout",
     "output_type": "stream",
     "text": [
      "<class 'pandas.core.series.Series'>\n",
      "RangeIndex: 10 entries, 0 to 9\n",
      "Series name: None\n",
      "Non-Null Count  Dtype\n",
      "--------------  -----\n",
      "10 non-null     int64\n",
      "dtypes: int64(1)\n",
      "memory usage: 212.0 bytes\n"
     ]
    }
   ],
   "source": [
    "nnn.info()"
   ]
  },
  {
   "cell_type": "code",
   "execution_count": 26,
   "id": "bd47dd08-a6d3-48ab-9f13-dde4220de2a8",
   "metadata": {},
   "outputs": [
    {
     "data": {
      "text/html": [
       "<div>\n",
       "<style scoped>\n",
       "    .dataframe tbody tr th:only-of-type {\n",
       "        vertical-align: middle;\n",
       "    }\n",
       "\n",
       "    .dataframe tbody tr th {\n",
       "        vertical-align: top;\n",
       "    }\n",
       "\n",
       "    .dataframe thead th {\n",
       "        text-align: right;\n",
       "    }\n",
       "</style>\n",
       "<table border=\"1\" class=\"dataframe\">\n",
       "  <thead>\n",
       "    <tr style=\"text-align: right;\">\n",
       "      <th></th>\n",
       "      <th>0</th>\n",
       "      <th>1</th>\n",
       "      <th>2</th>\n",
       "    </tr>\n",
       "  </thead>\n",
       "  <tbody>\n",
       "    <tr>\n",
       "      <th>0</th>\n",
       "      <td>4</td>\n",
       "      <td>7</td>\n",
       "      <td>10</td>\n",
       "    </tr>\n",
       "    <tr>\n",
       "      <th>1</th>\n",
       "      <td>5</td>\n",
       "      <td>8</td>\n",
       "      <td>11</td>\n",
       "    </tr>\n",
       "    <tr>\n",
       "      <th>2</th>\n",
       "      <td>6</td>\n",
       "      <td>9</td>\n",
       "      <td>12</td>\n",
       "    </tr>\n",
       "  </tbody>\n",
       "</table>\n",
       "</div>"
      ],
      "text/plain": [
       "   0  1   2\n",
       "0  4  7  10\n",
       "1  5  8  11\n",
       "2  6  9  12"
      ]
     },
     "execution_count": 26,
     "metadata": {},
     "output_type": "execute_result"
    }
   ],
   "source": [
    "data = [[4,7,10],[5,8,11],[6,9,12]]\n",
    "df = pd.DataFrame(data)\n",
    "df"
   ]
  },
  {
   "cell_type": "code",
   "execution_count": 27,
   "id": "3b5c7529-5882-49e4-bbe2-59bc675ee8fe",
   "metadata": {},
   "outputs": [
    {
     "data": {
      "text/html": [
       "<div>\n",
       "<style scoped>\n",
       "    .dataframe tbody tr th:only-of-type {\n",
       "        vertical-align: middle;\n",
       "    }\n",
       "\n",
       "    .dataframe tbody tr th {\n",
       "        vertical-align: top;\n",
       "    }\n",
       "\n",
       "    .dataframe thead th {\n",
       "        text-align: right;\n",
       "    }\n",
       "</style>\n",
       "<table border=\"1\" class=\"dataframe\">\n",
       "  <thead>\n",
       "    <tr style=\"text-align: right;\">\n",
       "      <th></th>\n",
       "      <th>X</th>\n",
       "      <th>Y</th>\n",
       "      <th>Z</th>\n",
       "    </tr>\n",
       "  </thead>\n",
       "  <tbody>\n",
       "    <tr>\n",
       "      <th>a</th>\n",
       "      <td>4</td>\n",
       "      <td>7</td>\n",
       "      <td>10</td>\n",
       "    </tr>\n",
       "    <tr>\n",
       "      <th>b</th>\n",
       "      <td>5</td>\n",
       "      <td>8</td>\n",
       "      <td>11</td>\n",
       "    </tr>\n",
       "    <tr>\n",
       "      <th>c</th>\n",
       "      <td>6</td>\n",
       "      <td>9</td>\n",
       "      <td>12</td>\n",
       "    </tr>\n",
       "  </tbody>\n",
       "</table>\n",
       "</div>"
      ],
      "text/plain": [
       "   X  Y   Z\n",
       "a  4  7  10\n",
       "b  5  8  11\n",
       "c  6  9  12"
      ]
     },
     "execution_count": 27,
     "metadata": {},
     "output_type": "execute_result"
    }
   ],
   "source": [
    "df = pd.DataFrame( data, index = ['a', 'b', 'c'], columns = ['X', 'Y', 'Z'])\n",
    "df"
   ]
  },
  {
   "cell_type": "code",
   "execution_count": 28,
   "id": "67ace1e1-e712-4337-ab20-bdee753a23c8",
   "metadata": {},
   "outputs": [
    {
     "data": {
      "text/plain": [
       "{'Name': ['Jai', 'Prince', 'Gaurav', 'Anuj'],\n",
       " 'Age': [27, 24, 22, 23],\n",
       " 'Address': ['Delphi', 'Kanpur', 'C++', 'CB'],\n",
       " 'Qualification': ['Msc', 'Ma', 'Mt', 'Ph.D']}"
      ]
     },
     "execution_count": 28,
     "metadata": {},
     "output_type": "execute_result"
    }
   ],
   "source": [
    "data = {'Name':['Jai', 'Prince', 'Gaurav', 'Anuj'],\n",
    "        'Age':[27, 24, 22, 23],\n",
    "        'Address':['Delphi', 'Kanpur', 'C++', 'CB'],\n",
    "        'Qualification':['Msc', 'Ma', 'Mt', 'Ph.D']}\n",
    "data"
   ]
  },
  {
   "cell_type": "code",
   "execution_count": 29,
   "id": "0b40a3bc-885f-413e-bf6e-412a2e313c1c",
   "metadata": {},
   "outputs": [
    {
     "data": {
      "text/html": [
       "<div>\n",
       "<style scoped>\n",
       "    .dataframe tbody tr th:only-of-type {\n",
       "        vertical-align: middle;\n",
       "    }\n",
       "\n",
       "    .dataframe tbody tr th {\n",
       "        vertical-align: top;\n",
       "    }\n",
       "\n",
       "    .dataframe thead th {\n",
       "        text-align: right;\n",
       "    }\n",
       "</style>\n",
       "<table border=\"1\" class=\"dataframe\">\n",
       "  <thead>\n",
       "    <tr style=\"text-align: right;\">\n",
       "      <th></th>\n",
       "      <th>Name</th>\n",
       "      <th>Age</th>\n",
       "      <th>Address</th>\n",
       "      <th>Qualification</th>\n",
       "    </tr>\n",
       "  </thead>\n",
       "  <tbody>\n",
       "    <tr>\n",
       "      <th>0</th>\n",
       "      <td>Jai</td>\n",
       "      <td>27</td>\n",
       "      <td>Delphi</td>\n",
       "      <td>Msc</td>\n",
       "    </tr>\n",
       "    <tr>\n",
       "      <th>1</th>\n",
       "      <td>Prince</td>\n",
       "      <td>24</td>\n",
       "      <td>Kanpur</td>\n",
       "      <td>Ma</td>\n",
       "    </tr>\n",
       "    <tr>\n",
       "      <th>2</th>\n",
       "      <td>Gaurav</td>\n",
       "      <td>22</td>\n",
       "      <td>C++</td>\n",
       "      <td>Mt</td>\n",
       "    </tr>\n",
       "    <tr>\n",
       "      <th>3</th>\n",
       "      <td>Anuj</td>\n",
       "      <td>23</td>\n",
       "      <td>CB</td>\n",
       "      <td>Ph.D</td>\n",
       "    </tr>\n",
       "  </tbody>\n",
       "</table>\n",
       "</div>"
      ],
      "text/plain": [
       "     Name  Age Address Qualification\n",
       "0     Jai   27  Delphi           Msc\n",
       "1  Prince   24  Kanpur            Ma\n",
       "2  Gaurav   22     C++            Mt\n",
       "3    Anuj   23      CB          Ph.D"
      ]
     },
     "execution_count": 29,
     "metadata": {},
     "output_type": "execute_result"
    }
   ],
   "source": [
    "df = pd.DataFrame(data)\n",
    "df"
   ]
  },
  {
   "cell_type": "code",
   "execution_count": 30,
   "id": "68a86ac1-f6c1-4eba-b108-a7cb354b9095",
   "metadata": {},
   "outputs": [
    {
     "name": "stdout",
     "output_type": "stream",
     "text": [
      "<class 'pandas.core.frame.DataFrame'>\n",
      "RangeIndex: 4 entries, 0 to 3\n",
      "Data columns (total 4 columns):\n",
      " #   Column         Non-Null Count  Dtype \n",
      "---  ------         --------------  ----- \n",
      " 0   Name           4 non-null      object\n",
      " 1   Age            4 non-null      int64 \n",
      " 2   Address        4 non-null      object\n",
      " 3   Qualification  4 non-null      object\n",
      "dtypes: int64(1), object(3)\n",
      "memory usage: 260.0+ bytes\n"
     ]
    }
   ],
   "source": [
    "df.info()"
   ]
  },
  {
   "cell_type": "code",
   "execution_count": 31,
   "id": "c7c1e472-83ea-4879-99ff-9607fa366a42",
   "metadata": {},
   "outputs": [],
   "source": [
    "df.to_csv('test_csv_from_df.csv')"
   ]
  },
  {
   "cell_type": "code",
   "execution_count": 32,
   "id": "49f2efb8-2e4e-4fde-a90b-6daf36339a6c",
   "metadata": {},
   "outputs": [
    {
     "data": {
      "text/html": [
       "<div>\n",
       "<style scoped>\n",
       "    .dataframe tbody tr th:only-of-type {\n",
       "        vertical-align: middle;\n",
       "    }\n",
       "\n",
       "    .dataframe tbody tr th {\n",
       "        vertical-align: top;\n",
       "    }\n",
       "\n",
       "    .dataframe thead th {\n",
       "        text-align: right;\n",
       "    }\n",
       "</style>\n",
       "<table border=\"1\" class=\"dataframe\">\n",
       "  <thead>\n",
       "    <tr style=\"text-align: right;\">\n",
       "      <th></th>\n",
       "      <th>Date</th>\n",
       "      <th>Time</th>\n",
       "      <th>0</th>\n",
       "      <th>1</th>\n",
       "      <th>2</th>\n",
       "      <th>3</th>\n",
       "      <th>4</th>\n",
       "      <th>5</th>\n",
       "      <th>6</th>\n",
       "      <th>7</th>\n",
       "      <th>e</th>\n",
       "      <th>Uref</th>\n",
       "      <th>VAC</th>\n",
       "    </tr>\n",
       "  </thead>\n",
       "  <tbody>\n",
       "    <tr>\n",
       "      <th>0</th>\n",
       "      <td>29.09.2023</td>\n",
       "      <td>22:15:23</td>\n",
       "      <td>24.88</td>\n",
       "      <td>25.06</td>\n",
       "      <td>24.88</td>\n",
       "      <td>25.06</td>\n",
       "      <td>25.13</td>\n",
       "      <td>25.06</td>\n",
       "      <td>25.06</td>\n",
       "      <td>25.06</td>\n",
       "      <td>-1000.0</td>\n",
       "      <td>1.400000e-06</td>\n",
       "      <td>0.000927</td>\n",
       "    </tr>\n",
       "    <tr>\n",
       "      <th>1</th>\n",
       "      <td>29.09.2023</td>\n",
       "      <td>22:15:32</td>\n",
       "      <td>24.88</td>\n",
       "      <td>25.06</td>\n",
       "      <td>24.94</td>\n",
       "      <td>25.06</td>\n",
       "      <td>25.13</td>\n",
       "      <td>25.06</td>\n",
       "      <td>25.06</td>\n",
       "      <td>25.06</td>\n",
       "      <td>-1000.0</td>\n",
       "      <td>7.000000e-07</td>\n",
       "      <td>0.000970</td>\n",
       "    </tr>\n",
       "    <tr>\n",
       "      <th>2</th>\n",
       "      <td>29.09.2023</td>\n",
       "      <td>22:15:37</td>\n",
       "      <td>24.88</td>\n",
       "      <td>25.06</td>\n",
       "      <td>24.94</td>\n",
       "      <td>25.06</td>\n",
       "      <td>25.13</td>\n",
       "      <td>25.06</td>\n",
       "      <td>25.06</td>\n",
       "      <td>25.06</td>\n",
       "      <td>-1000.0</td>\n",
       "      <td>1.400000e-06</td>\n",
       "      <td>0.000933</td>\n",
       "    </tr>\n",
       "    <tr>\n",
       "      <th>3</th>\n",
       "      <td>29.09.2023</td>\n",
       "      <td>22:15:42</td>\n",
       "      <td>24.88</td>\n",
       "      <td>25.06</td>\n",
       "      <td>24.94</td>\n",
       "      <td>25.06</td>\n",
       "      <td>25.13</td>\n",
       "      <td>25.06</td>\n",
       "      <td>25.06</td>\n",
       "      <td>25.06</td>\n",
       "      <td>-1000.0</td>\n",
       "      <td>1.009889e+01</td>\n",
       "      <td>224.522000</td>\n",
       "    </tr>\n",
       "    <tr>\n",
       "      <th>4</th>\n",
       "      <td>29.09.2023</td>\n",
       "      <td>22:15:47</td>\n",
       "      <td>24.88</td>\n",
       "      <td>25.06</td>\n",
       "      <td>24.94</td>\n",
       "      <td>25.06</td>\n",
       "      <td>25.13</td>\n",
       "      <td>25.06</td>\n",
       "      <td>25.06</td>\n",
       "      <td>25.06</td>\n",
       "      <td>-1000.0</td>\n",
       "      <td>1.010075e+01</td>\n",
       "      <td>225.976000</td>\n",
       "    </tr>\n",
       "    <tr>\n",
       "      <th>...</th>\n",
       "      <td>...</td>\n",
       "      <td>...</td>\n",
       "      <td>...</td>\n",
       "      <td>...</td>\n",
       "      <td>...</td>\n",
       "      <td>...</td>\n",
       "      <td>...</td>\n",
       "      <td>...</td>\n",
       "      <td>...</td>\n",
       "      <td>...</td>\n",
       "      <td>...</td>\n",
       "      <td>...</td>\n",
       "      <td>...</td>\n",
       "    </tr>\n",
       "    <tr>\n",
       "      <th>42490</th>\n",
       "      <td>02.10.2023</td>\n",
       "      <td>07:16:07</td>\n",
       "      <td>26.38</td>\n",
       "      <td>26.38</td>\n",
       "      <td>26.38</td>\n",
       "      <td>26.31</td>\n",
       "      <td>26.44</td>\n",
       "      <td>26.38</td>\n",
       "      <td>26.31</td>\n",
       "      <td>26.31</td>\n",
       "      <td>-1000.0</td>\n",
       "      <td>1.010478e+01</td>\n",
       "      <td>227.414000</td>\n",
       "    </tr>\n",
       "    <tr>\n",
       "      <th>42491</th>\n",
       "      <td>02.10.2023</td>\n",
       "      <td>07:16:12</td>\n",
       "      <td>26.38</td>\n",
       "      <td>26.38</td>\n",
       "      <td>26.38</td>\n",
       "      <td>26.31</td>\n",
       "      <td>26.38</td>\n",
       "      <td>26.38</td>\n",
       "      <td>26.31</td>\n",
       "      <td>26.31</td>\n",
       "      <td>-1000.0</td>\n",
       "      <td>1.010478e+01</td>\n",
       "      <td>228.031000</td>\n",
       "    </tr>\n",
       "    <tr>\n",
       "      <th>42492</th>\n",
       "      <td>02.10.2023</td>\n",
       "      <td>07:16:17</td>\n",
       "      <td>26.38</td>\n",
       "      <td>26.38</td>\n",
       "      <td>26.38</td>\n",
       "      <td>26.31</td>\n",
       "      <td>26.38</td>\n",
       "      <td>26.38</td>\n",
       "      <td>26.38</td>\n",
       "      <td>26.31</td>\n",
       "      <td>-1000.0</td>\n",
       "      <td>1.010479e+01</td>\n",
       "      <td>228.122000</td>\n",
       "    </tr>\n",
       "    <tr>\n",
       "      <th>42493</th>\n",
       "      <td>02.10.2023</td>\n",
       "      <td>07:16:22</td>\n",
       "      <td>26.38</td>\n",
       "      <td>26.38</td>\n",
       "      <td>26.38</td>\n",
       "      <td>26.31</td>\n",
       "      <td>26.38</td>\n",
       "      <td>26.38</td>\n",
       "      <td>26.31</td>\n",
       "      <td>26.31</td>\n",
       "      <td>-1000.0</td>\n",
       "      <td>1.010479e+01</td>\n",
       "      <td>228.304000</td>\n",
       "    </tr>\n",
       "    <tr>\n",
       "      <th>42494</th>\n",
       "      <td>02.10.2023</td>\n",
       "      <td>07:16:27</td>\n",
       "      <td>26.38</td>\n",
       "      <td>26.38</td>\n",
       "      <td>26.38</td>\n",
       "      <td>26.31</td>\n",
       "      <td>26.44</td>\n",
       "      <td>26.38</td>\n",
       "      <td>26.31</td>\n",
       "      <td>26.31</td>\n",
       "      <td>-1000.0</td>\n",
       "      <td>1.010479e+01</td>\n",
       "      <td>228.506000</td>\n",
       "    </tr>\n",
       "  </tbody>\n",
       "</table>\n",
       "<p>42495 rows × 13 columns</p>\n",
       "</div>"
      ],
      "text/plain": [
       "              Date        Time      0      1      2      3      4      5  \\\n",
       "0      29.09.2023    22:15:23   24.88  25.06  24.88  25.06  25.13  25.06   \n",
       "1      29.09.2023    22:15:32   24.88  25.06  24.94  25.06  25.13  25.06   \n",
       "2      29.09.2023    22:15:37   24.88  25.06  24.94  25.06  25.13  25.06   \n",
       "3      29.09.2023    22:15:42   24.88  25.06  24.94  25.06  25.13  25.06   \n",
       "4      29.09.2023    22:15:47   24.88  25.06  24.94  25.06  25.13  25.06   \n",
       "...            ...         ...    ...    ...    ...    ...    ...    ...   \n",
       "42490  02.10.2023    07:16:07   26.38  26.38  26.38  26.31  26.44  26.38   \n",
       "42491  02.10.2023    07:16:12   26.38  26.38  26.38  26.31  26.38  26.38   \n",
       "42492  02.10.2023    07:16:17   26.38  26.38  26.38  26.31  26.38  26.38   \n",
       "42493  02.10.2023    07:16:22   26.38  26.38  26.38  26.31  26.38  26.38   \n",
       "42494  02.10.2023    07:16:27   26.38  26.38  26.38  26.31  26.44  26.38   \n",
       "\n",
       "           6      7       e          Uref         VAC  \n",
       "0      25.06  25.06 -1000.0  1.400000e-06    0.000927  \n",
       "1      25.06  25.06 -1000.0  7.000000e-07    0.000970  \n",
       "2      25.06  25.06 -1000.0  1.400000e-06    0.000933  \n",
       "3      25.06  25.06 -1000.0  1.009889e+01  224.522000  \n",
       "4      25.06  25.06 -1000.0  1.010075e+01  225.976000  \n",
       "...      ...    ...     ...           ...         ...  \n",
       "42490  26.31  26.31 -1000.0  1.010478e+01  227.414000  \n",
       "42491  26.31  26.31 -1000.0  1.010478e+01  228.031000  \n",
       "42492  26.38  26.31 -1000.0  1.010479e+01  228.122000  \n",
       "42493  26.31  26.31 -1000.0  1.010479e+01  228.304000  \n",
       "42494  26.31  26.31 -1000.0  1.010479e+01  228.506000  \n",
       "\n",
       "[42495 rows x 13 columns]"
      ]
     },
     "execution_count": 32,
     "metadata": {},
     "output_type": "execute_result"
    }
   ],
   "source": [
    "df = pd.read_csv('3rd_run_to_test.csv', sep=';', names = ['Date', 'Time', '0','1','2','3','4','5','6','7','e','Uref','VAC'])\n",
    "df"
   ]
  },
  {
   "cell_type": "code",
   "execution_count": 33,
   "id": "d180487c-6cdd-465b-b1c4-9508bee6e363",
   "metadata": {},
   "outputs": [
    {
     "data": {
      "text/html": [
       "<div>\n",
       "<style scoped>\n",
       "    .dataframe tbody tr th:only-of-type {\n",
       "        vertical-align: middle;\n",
       "    }\n",
       "\n",
       "    .dataframe tbody tr th {\n",
       "        vertical-align: top;\n",
       "    }\n",
       "\n",
       "    .dataframe thead th {\n",
       "        text-align: right;\n",
       "    }\n",
       "</style>\n",
       "<table border=\"1\" class=\"dataframe\">\n",
       "  <thead>\n",
       "    <tr style=\"text-align: right;\">\n",
       "      <th></th>\n",
       "      <th>0</th>\n",
       "      <th>1</th>\n",
       "      <th>2</th>\n",
       "      <th>3</th>\n",
       "      <th>4</th>\n",
       "      <th>5</th>\n",
       "      <th>6</th>\n",
       "      <th>7</th>\n",
       "      <th>e</th>\n",
       "      <th>Uref</th>\n",
       "      <th>VAC</th>\n",
       "    </tr>\n",
       "  </thead>\n",
       "  <tbody>\n",
       "    <tr>\n",
       "      <th>count</th>\n",
       "      <td>42495.000000</td>\n",
       "      <td>42495.000000</td>\n",
       "      <td>42495.000000</td>\n",
       "      <td>42495.000000</td>\n",
       "      <td>42495.000000</td>\n",
       "      <td>42495.000000</td>\n",
       "      <td>42495.000000</td>\n",
       "      <td>42495.000000</td>\n",
       "      <td>42495.0</td>\n",
       "      <td>4.249500e+04</td>\n",
       "      <td>42495.000000</td>\n",
       "    </tr>\n",
       "    <tr>\n",
       "      <th>mean</th>\n",
       "      <td>25.694843</td>\n",
       "      <td>25.636954</td>\n",
       "      <td>25.654242</td>\n",
       "      <td>25.569089</td>\n",
       "      <td>25.679917</td>\n",
       "      <td>25.700133</td>\n",
       "      <td>25.565134</td>\n",
       "      <td>25.617853</td>\n",
       "      <td>-1000.0</td>\n",
       "      <td>1.010406e+01</td>\n",
       "      <td>227.593281</td>\n",
       "    </tr>\n",
       "    <tr>\n",
       "      <th>std</th>\n",
       "      <td>0.347073</td>\n",
       "      <td>0.338003</td>\n",
       "      <td>0.367097</td>\n",
       "      <td>0.363316</td>\n",
       "      <td>0.344814</td>\n",
       "      <td>0.329948</td>\n",
       "      <td>0.395047</td>\n",
       "      <td>0.342724</td>\n",
       "      <td>0.0</td>\n",
       "      <td>8.490006e-02</td>\n",
       "      <td>6.631255</td>\n",
       "    </tr>\n",
       "    <tr>\n",
       "      <th>min</th>\n",
       "      <td>24.880000</td>\n",
       "      <td>24.750000</td>\n",
       "      <td>24.750000</td>\n",
       "      <td>24.560000</td>\n",
       "      <td>24.750000</td>\n",
       "      <td>24.880000</td>\n",
       "      <td>24.440000</td>\n",
       "      <td>24.750000</td>\n",
       "      <td>-1000.0</td>\n",
       "      <td>7.000000e-07</td>\n",
       "      <td>0.000927</td>\n",
       "    </tr>\n",
       "    <tr>\n",
       "      <th>25%</th>\n",
       "      <td>25.440000</td>\n",
       "      <td>25.380000</td>\n",
       "      <td>25.380000</td>\n",
       "      <td>25.310000</td>\n",
       "      <td>25.440000</td>\n",
       "      <td>25.440000</td>\n",
       "      <td>25.310000</td>\n",
       "      <td>25.380000</td>\n",
       "      <td>-1000.0</td>\n",
       "      <td>1.010477e+01</td>\n",
       "      <td>225.091500</td>\n",
       "    </tr>\n",
       "    <tr>\n",
       "      <th>50%</th>\n",
       "      <td>25.690000</td>\n",
       "      <td>25.630000</td>\n",
       "      <td>25.690000</td>\n",
       "      <td>25.560000</td>\n",
       "      <td>25.690000</td>\n",
       "      <td>25.750000</td>\n",
       "      <td>25.560000</td>\n",
       "      <td>25.630000</td>\n",
       "      <td>-1000.0</td>\n",
       "      <td>1.010477e+01</td>\n",
       "      <td>226.420000</td>\n",
       "    </tr>\n",
       "    <tr>\n",
       "      <th>75%</th>\n",
       "      <td>25.880000</td>\n",
       "      <td>25.810000</td>\n",
       "      <td>25.880000</td>\n",
       "      <td>25.810000</td>\n",
       "      <td>25.880000</td>\n",
       "      <td>25.880000</td>\n",
       "      <td>25.810000</td>\n",
       "      <td>25.810000</td>\n",
       "      <td>-1000.0</td>\n",
       "      <td>1.010478e+01</td>\n",
       "      <td>227.655000</td>\n",
       "    </tr>\n",
       "    <tr>\n",
       "      <th>max</th>\n",
       "      <td>26.940000</td>\n",
       "      <td>26.500000</td>\n",
       "      <td>27.630000</td>\n",
       "      <td>27.190000</td>\n",
       "      <td>26.880000</td>\n",
       "      <td>26.500000</td>\n",
       "      <td>27.810000</td>\n",
       "      <td>26.880000</td>\n",
       "      <td>-1000.0</td>\n",
       "      <td>1.010480e+01</td>\n",
       "      <td>255.966000</td>\n",
       "    </tr>\n",
       "  </tbody>\n",
       "</table>\n",
       "</div>"
      ],
      "text/plain": [
       "                  0             1             2             3             4  \\\n",
       "count  42495.000000  42495.000000  42495.000000  42495.000000  42495.000000   \n",
       "mean      25.694843     25.636954     25.654242     25.569089     25.679917   \n",
       "std        0.347073      0.338003      0.367097      0.363316      0.344814   \n",
       "min       24.880000     24.750000     24.750000     24.560000     24.750000   \n",
       "25%       25.440000     25.380000     25.380000     25.310000     25.440000   \n",
       "50%       25.690000     25.630000     25.690000     25.560000     25.690000   \n",
       "75%       25.880000     25.810000     25.880000     25.810000     25.880000   \n",
       "max       26.940000     26.500000     27.630000     27.190000     26.880000   \n",
       "\n",
       "                  5             6             7        e          Uref  \\\n",
       "count  42495.000000  42495.000000  42495.000000  42495.0  4.249500e+04   \n",
       "mean      25.700133     25.565134     25.617853  -1000.0  1.010406e+01   \n",
       "std        0.329948      0.395047      0.342724      0.0  8.490006e-02   \n",
       "min       24.880000     24.440000     24.750000  -1000.0  7.000000e-07   \n",
       "25%       25.440000     25.310000     25.380000  -1000.0  1.010477e+01   \n",
       "50%       25.750000     25.560000     25.630000  -1000.0  1.010477e+01   \n",
       "75%       25.880000     25.810000     25.810000  -1000.0  1.010478e+01   \n",
       "max       26.500000     27.810000     26.880000  -1000.0  1.010480e+01   \n",
       "\n",
       "                VAC  \n",
       "count  42495.000000  \n",
       "mean     227.593281  \n",
       "std        6.631255  \n",
       "min        0.000927  \n",
       "25%      225.091500  \n",
       "50%      226.420000  \n",
       "75%      227.655000  \n",
       "max      255.966000  "
      ]
     },
     "execution_count": 33,
     "metadata": {},
     "output_type": "execute_result"
    }
   ],
   "source": [
    "df.describe()"
   ]
  },
  {
   "cell_type": "code",
   "execution_count": 34,
   "id": "115eb27e-37a2-400f-9a91-579b882c17c9",
   "metadata": {},
   "outputs": [
    {
     "data": {
      "text/plain": [
       "(42495, 13)"
      ]
     },
     "execution_count": 34,
     "metadata": {},
     "output_type": "execute_result"
    }
   ],
   "source": [
    "df.shape"
   ]
  },
  {
   "cell_type": "code",
   "execution_count": 35,
   "id": "d1e063c9-f7a7-4948-bd0b-0f7d4a94cf57",
   "metadata": {},
   "outputs": [
    {
     "data": {
      "text/plain": [
       "2"
      ]
     },
     "execution_count": 35,
     "metadata": {},
     "output_type": "execute_result"
    }
   ],
   "source": [
    "df.ndim"
   ]
  },
  {
   "cell_type": "code",
   "execution_count": 36,
   "id": "8fcb0383-c241-44d6-886e-1d3d2ecb0383",
   "metadata": {},
   "outputs": [
    {
     "data": {
      "text/plain": [
       "552435"
      ]
     },
     "execution_count": 36,
     "metadata": {},
     "output_type": "execute_result"
    }
   ],
   "source": [
    "df.size"
   ]
  },
  {
   "cell_type": "code",
   "execution_count": 37,
   "id": "54872967-a4a1-4274-b8b6-32507e2597a0",
   "metadata": {},
   "outputs": [
    {
     "data": {
      "text/plain": [
       "552435"
      ]
     },
     "execution_count": 37,
     "metadata": {},
     "output_type": "execute_result"
    }
   ],
   "source": [
    "42495*13"
   ]
  },
  {
   "cell_type": "code",
   "execution_count": 38,
   "id": "be62093d-48e3-4336-a381-b6b506fdd73c",
   "metadata": {},
   "outputs": [
    {
     "data": {
      "text/plain": [
       "RangeIndex(start=0, stop=42495, step=1)"
      ]
     },
     "execution_count": 38,
     "metadata": {},
     "output_type": "execute_result"
    }
   ],
   "source": [
    "df.index"
   ]
  },
  {
   "cell_type": "code",
   "execution_count": 39,
   "id": "4bf46ca8-f261-44b5-bec5-7aee2d356312",
   "metadata": {},
   "outputs": [
    {
     "data": {
      "text/plain": [
       "<bound method DataFrame.count of               Date        Time      0      1      2      3      4      5  \\\n",
       "0      29.09.2023    22:15:23   24.88  25.06  24.88  25.06  25.13  25.06   \n",
       "1      29.09.2023    22:15:32   24.88  25.06  24.94  25.06  25.13  25.06   \n",
       "2      29.09.2023    22:15:37   24.88  25.06  24.94  25.06  25.13  25.06   \n",
       "3      29.09.2023    22:15:42   24.88  25.06  24.94  25.06  25.13  25.06   \n",
       "4      29.09.2023    22:15:47   24.88  25.06  24.94  25.06  25.13  25.06   \n",
       "...            ...         ...    ...    ...    ...    ...    ...    ...   \n",
       "42490  02.10.2023    07:16:07   26.38  26.38  26.38  26.31  26.44  26.38   \n",
       "42491  02.10.2023    07:16:12   26.38  26.38  26.38  26.31  26.38  26.38   \n",
       "42492  02.10.2023    07:16:17   26.38  26.38  26.38  26.31  26.38  26.38   \n",
       "42493  02.10.2023    07:16:22   26.38  26.38  26.38  26.31  26.38  26.38   \n",
       "42494  02.10.2023    07:16:27   26.38  26.38  26.38  26.31  26.44  26.38   \n",
       "\n",
       "           6      7       e          Uref         VAC  \n",
       "0      25.06  25.06 -1000.0  1.400000e-06    0.000927  \n",
       "1      25.06  25.06 -1000.0  7.000000e-07    0.000970  \n",
       "2      25.06  25.06 -1000.0  1.400000e-06    0.000933  \n",
       "3      25.06  25.06 -1000.0  1.009889e+01  224.522000  \n",
       "4      25.06  25.06 -1000.0  1.010075e+01  225.976000  \n",
       "...      ...    ...     ...           ...         ...  \n",
       "42490  26.31  26.31 -1000.0  1.010478e+01  227.414000  \n",
       "42491  26.31  26.31 -1000.0  1.010478e+01  228.031000  \n",
       "42492  26.38  26.31 -1000.0  1.010479e+01  228.122000  \n",
       "42493  26.31  26.31 -1000.0  1.010479e+01  228.304000  \n",
       "42494  26.31  26.31 -1000.0  1.010479e+01  228.506000  \n",
       "\n",
       "[42495 rows x 13 columns]>"
      ]
     },
     "execution_count": 39,
     "metadata": {},
     "output_type": "execute_result"
    }
   ],
   "source": [
    "df.count"
   ]
  },
  {
   "cell_type": "code",
   "execution_count": 40,
   "id": "0ce29427-9a45-42f9-a938-c45ac2f5021f",
   "metadata": {},
   "outputs": [
    {
     "data": {
      "text/plain": [
       "Date         Time        0      1      2      3      4      5      6      7      e        Uref       VAC    \n",
       "30.09.2023    11:14:49   25.38  25.38  25.38  25.31  25.44  25.44  25.31  25.31  -1000.0  10.104763  227.537    2\n",
       "              11:05:54   25.31  25.31  25.31  25.25  25.38  25.38  25.31  25.31  -1000.0  10.104763  226.970    2\n",
       "              11:05:24   25.38  25.31  25.31  25.25  25.38  25.38  25.31  25.31  -1000.0  10.104762  227.392    2\n",
       "              11:05:29   25.31  25.31  25.31  25.25  25.38  25.38  25.31  25.31  -1000.0  10.104763  226.716    2\n",
       "              11:05:34   25.38  25.31  25.31  25.25  25.38  25.38  25.31  25.31  -1000.0  10.104762  225.864    2\n",
       "                                                                                                               ..\n",
       "01.10.2023    18:40:24   25.38  25.25  25.19  25.13  25.25  25.31  25.00  25.19  -1000.0  10.104772  247.810    1\n",
       "              18:40:29   25.38  25.25  25.19  25.13  25.25  25.31  25.06  25.19  -1000.0  10.104771  247.814    1\n",
       "              18:40:34   25.38  25.25  25.19  25.13  25.25  25.31  25.06  25.19  -1000.0  10.104772  248.950    1\n",
       "              18:40:39   25.38  25.25  25.25  25.13  25.25  25.38  25.06  25.19  -1000.0  10.104771  249.001    1\n",
       "30.09.2023    23:59:57   25.19  25.19  25.19  25.13  25.19  25.25  25.13  25.19  -1000.0  10.104765  225.223    1\n",
       "Name: count, Length: 41055, dtype: int64"
      ]
     },
     "execution_count": 40,
     "metadata": {},
     "output_type": "execute_result"
    }
   ],
   "source": [
    "df.value_counts()"
   ]
  },
  {
   "cell_type": "code",
   "execution_count": 41,
   "id": "6ff82359-c307-455a-a093-9e7454d7c43b",
   "metadata": {},
   "outputs": [
    {
     "data": {
      "text/plain": [
       "Date\n",
       "30.09.2023     18001\n",
       "01.10.2023     18001\n",
       "02.10.2023      5238\n",
       "29.09.2023      1255\n",
       "Name: count, dtype: int64"
      ]
     },
     "execution_count": 41,
     "metadata": {},
     "output_type": "execute_result"
    }
   ],
   "source": [
    "df['Date'].value_counts()"
   ]
  },
  {
   "cell_type": "code",
   "execution_count": 42,
   "id": "fedc600b-bf72-4435-af21-e8d0a17099a0",
   "metadata": {},
   "outputs": [
    {
     "data": {
      "text/plain": [
       "VAC\n",
       "226.872    21\n",
       "227.191    20\n",
       "227.511    20\n",
       "227.316    19\n",
       "226.453    19\n",
       "           ..\n",
       "222.818     1\n",
       "222.988     1\n",
       "223.108     1\n",
       "220.987     1\n",
       "223.786     1\n",
       "Name: count, Length: 10934, dtype: int64"
      ]
     },
     "execution_count": 42,
     "metadata": {},
     "output_type": "execute_result"
    }
   ],
   "source": [
    "df['VAC'].value_counts()"
   ]
  },
  {
   "cell_type": "code",
   "execution_count": 43,
   "id": "57d81065-9fe4-4cc8-8c7a-dfb4e576ec47",
   "metadata": {},
   "outputs": [
    {
     "data": {
      "text/plain": [
       "10934"
      ]
     },
     "execution_count": 43,
     "metadata": {},
     "output_type": "execute_result"
    }
   ],
   "source": [
    "df['VAC'].nunique()"
   ]
  },
  {
   "cell_type": "code",
   "execution_count": 44,
   "id": "2c5f8c00-84b9-4b52-89e8-8e1e9a579084",
   "metadata": {},
   "outputs": [
    {
     "data": {
      "text/plain": [
       "4"
      ]
     },
     "execution_count": 44,
     "metadata": {},
     "output_type": "execute_result"
    }
   ],
   "source": [
    "df['Date'].nunique()"
   ]
  },
  {
   "cell_type": "code",
   "execution_count": 45,
   "id": "ce29d0f5-f479-43f6-8c0f-4d19e1a9eed4",
   "metadata": {},
   "outputs": [
    {
     "data": {
      "text/plain": [
       "array(['29.09.2023 ', '30.09.2023 ', '01.10.2023 ', '02.10.2023 '],\n",
       "      dtype=object)"
      ]
     },
     "execution_count": 45,
     "metadata": {},
     "output_type": "execute_result"
    }
   ],
   "source": [
    "df['Date'].unique()"
   ]
  },
  {
   "cell_type": "code",
   "execution_count": 46,
   "id": "67e8051f-e0a6-4873-8e7e-dc4ed854055f",
   "metadata": {},
   "outputs": [
    {
     "data": {
      "text/plain": [
       "array([9.27000e-04, 9.70000e-04, 9.33000e-04, ..., 2.23168e+02,\n",
       "       2.23503e+02, 2.23786e+02])"
      ]
     },
     "execution_count": 46,
     "metadata": {},
     "output_type": "execute_result"
    }
   ],
   "source": [
    "df['VAC'].unique()"
   ]
  },
  {
   "cell_type": "code",
   "execution_count": 47,
   "id": "e69ec9a5-afb9-4aab-ac53-569cdbbcfc78",
   "metadata": {},
   "outputs": [
    {
     "data": {
      "text/plain": [
       "0        1000.000927\n",
       "1        1000.000970\n",
       "2        1000.000933\n",
       "3        1224.522000\n",
       "4        1225.976000\n",
       "            ...     \n",
       "42490    1227.414000\n",
       "42491    1228.031000\n",
       "42492    1228.122000\n",
       "42493    1228.304000\n",
       "42494    1228.506000\n",
       "Name: VAC, Length: 42495, dtype: float64"
      ]
     },
     "execution_count": 47,
     "metadata": {},
     "output_type": "execute_result"
    }
   ],
   "source": [
    "df['VAC'].apply(lambda x : x + 1000)"
   ]
  },
  {
   "cell_type": "code",
   "execution_count": 48,
   "id": "789b9a62-fec2-461c-93c5-40f054880249",
   "metadata": {},
   "outputs": [
    {
     "data": {
      "text/html": [
       "<div>\n",
       "<style scoped>\n",
       "    .dataframe tbody tr th:only-of-type {\n",
       "        vertical-align: middle;\n",
       "    }\n",
       "\n",
       "    .dataframe tbody tr th {\n",
       "        vertical-align: top;\n",
       "    }\n",
       "\n",
       "    .dataframe thead th {\n",
       "        text-align: right;\n",
       "    }\n",
       "</style>\n",
       "<table border=\"1\" class=\"dataframe\">\n",
       "  <thead>\n",
       "    <tr style=\"text-align: right;\">\n",
       "      <th></th>\n",
       "      <th>Date</th>\n",
       "      <th>Time</th>\n",
       "      <th>0</th>\n",
       "      <th>1</th>\n",
       "      <th>2</th>\n",
       "      <th>3</th>\n",
       "      <th>4</th>\n",
       "      <th>5</th>\n",
       "      <th>6</th>\n",
       "      <th>7</th>\n",
       "      <th>e</th>\n",
       "      <th>Uref</th>\n",
       "      <th>VAC</th>\n",
       "    </tr>\n",
       "  </thead>\n",
       "  <tbody>\n",
       "    <tr>\n",
       "      <th>0</th>\n",
       "      <td>29.09.2023</td>\n",
       "      <td>22:15:23</td>\n",
       "      <td>24.88</td>\n",
       "      <td>25.06</td>\n",
       "      <td>24.88</td>\n",
       "      <td>25.06</td>\n",
       "      <td>25.13</td>\n",
       "      <td>25.06</td>\n",
       "      <td>25.06</td>\n",
       "      <td>25.06</td>\n",
       "      <td>-1000.0</td>\n",
       "      <td>1.400000e-06</td>\n",
       "      <td>0.000927</td>\n",
       "    </tr>\n",
       "    <tr>\n",
       "      <th>1</th>\n",
       "      <td>29.09.2023</td>\n",
       "      <td>22:15:32</td>\n",
       "      <td>24.88</td>\n",
       "      <td>25.06</td>\n",
       "      <td>24.94</td>\n",
       "      <td>25.06</td>\n",
       "      <td>25.13</td>\n",
       "      <td>25.06</td>\n",
       "      <td>25.06</td>\n",
       "      <td>25.06</td>\n",
       "      <td>-1000.0</td>\n",
       "      <td>7.000000e-07</td>\n",
       "      <td>0.000970</td>\n",
       "    </tr>\n",
       "    <tr>\n",
       "      <th>2</th>\n",
       "      <td>29.09.2023</td>\n",
       "      <td>22:15:37</td>\n",
       "      <td>24.88</td>\n",
       "      <td>25.06</td>\n",
       "      <td>24.94</td>\n",
       "      <td>25.06</td>\n",
       "      <td>25.13</td>\n",
       "      <td>25.06</td>\n",
       "      <td>25.06</td>\n",
       "      <td>25.06</td>\n",
       "      <td>-1000.0</td>\n",
       "      <td>1.400000e-06</td>\n",
       "      <td>0.000933</td>\n",
       "    </tr>\n",
       "    <tr>\n",
       "      <th>3</th>\n",
       "      <td>29.09.2023</td>\n",
       "      <td>22:15:42</td>\n",
       "      <td>24.88</td>\n",
       "      <td>25.06</td>\n",
       "      <td>24.94</td>\n",
       "      <td>25.06</td>\n",
       "      <td>25.13</td>\n",
       "      <td>25.06</td>\n",
       "      <td>25.06</td>\n",
       "      <td>25.06</td>\n",
       "      <td>-1000.0</td>\n",
       "      <td>1.009889e+01</td>\n",
       "      <td>224.522000</td>\n",
       "    </tr>\n",
       "    <tr>\n",
       "      <th>4</th>\n",
       "      <td>29.09.2023</td>\n",
       "      <td>22:15:47</td>\n",
       "      <td>24.88</td>\n",
       "      <td>25.06</td>\n",
       "      <td>24.94</td>\n",
       "      <td>25.06</td>\n",
       "      <td>25.13</td>\n",
       "      <td>25.06</td>\n",
       "      <td>25.06</td>\n",
       "      <td>25.06</td>\n",
       "      <td>-1000.0</td>\n",
       "      <td>1.010075e+01</td>\n",
       "      <td>225.976000</td>\n",
       "    </tr>\n",
       "    <tr>\n",
       "      <th>...</th>\n",
       "      <td>...</td>\n",
       "      <td>...</td>\n",
       "      <td>...</td>\n",
       "      <td>...</td>\n",
       "      <td>...</td>\n",
       "      <td>...</td>\n",
       "      <td>...</td>\n",
       "      <td>...</td>\n",
       "      <td>...</td>\n",
       "      <td>...</td>\n",
       "      <td>...</td>\n",
       "      <td>...</td>\n",
       "      <td>...</td>\n",
       "    </tr>\n",
       "    <tr>\n",
       "      <th>42490</th>\n",
       "      <td>02.10.2023</td>\n",
       "      <td>07:16:07</td>\n",
       "      <td>26.38</td>\n",
       "      <td>26.38</td>\n",
       "      <td>26.38</td>\n",
       "      <td>26.31</td>\n",
       "      <td>26.44</td>\n",
       "      <td>26.38</td>\n",
       "      <td>26.31</td>\n",
       "      <td>26.31</td>\n",
       "      <td>-1000.0</td>\n",
       "      <td>1.010478e+01</td>\n",
       "      <td>227.414000</td>\n",
       "    </tr>\n",
       "    <tr>\n",
       "      <th>42491</th>\n",
       "      <td>02.10.2023</td>\n",
       "      <td>07:16:12</td>\n",
       "      <td>26.38</td>\n",
       "      <td>26.38</td>\n",
       "      <td>26.38</td>\n",
       "      <td>26.31</td>\n",
       "      <td>26.38</td>\n",
       "      <td>26.38</td>\n",
       "      <td>26.31</td>\n",
       "      <td>26.31</td>\n",
       "      <td>-1000.0</td>\n",
       "      <td>1.010478e+01</td>\n",
       "      <td>228.031000</td>\n",
       "    </tr>\n",
       "    <tr>\n",
       "      <th>42492</th>\n",
       "      <td>02.10.2023</td>\n",
       "      <td>07:16:17</td>\n",
       "      <td>26.38</td>\n",
       "      <td>26.38</td>\n",
       "      <td>26.38</td>\n",
       "      <td>26.31</td>\n",
       "      <td>26.38</td>\n",
       "      <td>26.38</td>\n",
       "      <td>26.38</td>\n",
       "      <td>26.31</td>\n",
       "      <td>-1000.0</td>\n",
       "      <td>1.010479e+01</td>\n",
       "      <td>228.122000</td>\n",
       "    </tr>\n",
       "    <tr>\n",
       "      <th>42493</th>\n",
       "      <td>02.10.2023</td>\n",
       "      <td>07:16:22</td>\n",
       "      <td>26.38</td>\n",
       "      <td>26.38</td>\n",
       "      <td>26.38</td>\n",
       "      <td>26.31</td>\n",
       "      <td>26.38</td>\n",
       "      <td>26.38</td>\n",
       "      <td>26.31</td>\n",
       "      <td>26.31</td>\n",
       "      <td>-1000.0</td>\n",
       "      <td>1.010479e+01</td>\n",
       "      <td>228.304000</td>\n",
       "    </tr>\n",
       "    <tr>\n",
       "      <th>42494</th>\n",
       "      <td>02.10.2023</td>\n",
       "      <td>07:16:27</td>\n",
       "      <td>26.38</td>\n",
       "      <td>26.38</td>\n",
       "      <td>26.38</td>\n",
       "      <td>26.31</td>\n",
       "      <td>26.44</td>\n",
       "      <td>26.38</td>\n",
       "      <td>26.31</td>\n",
       "      <td>26.31</td>\n",
       "      <td>-1000.0</td>\n",
       "      <td>1.010479e+01</td>\n",
       "      <td>228.506000</td>\n",
       "    </tr>\n",
       "  </tbody>\n",
       "</table>\n",
       "<p>42495 rows × 13 columns</p>\n",
       "</div>"
      ],
      "text/plain": [
       "              Date        Time      0      1      2      3      4      5  \\\n",
       "0      29.09.2023    22:15:23   24.88  25.06  24.88  25.06  25.13  25.06   \n",
       "1      29.09.2023    22:15:32   24.88  25.06  24.94  25.06  25.13  25.06   \n",
       "2      29.09.2023    22:15:37   24.88  25.06  24.94  25.06  25.13  25.06   \n",
       "3      29.09.2023    22:15:42   24.88  25.06  24.94  25.06  25.13  25.06   \n",
       "4      29.09.2023    22:15:47   24.88  25.06  24.94  25.06  25.13  25.06   \n",
       "...            ...         ...    ...    ...    ...    ...    ...    ...   \n",
       "42490  02.10.2023    07:16:07   26.38  26.38  26.38  26.31  26.44  26.38   \n",
       "42491  02.10.2023    07:16:12   26.38  26.38  26.38  26.31  26.38  26.38   \n",
       "42492  02.10.2023    07:16:17   26.38  26.38  26.38  26.31  26.38  26.38   \n",
       "42493  02.10.2023    07:16:22   26.38  26.38  26.38  26.31  26.38  26.38   \n",
       "42494  02.10.2023    07:16:27   26.38  26.38  26.38  26.31  26.44  26.38   \n",
       "\n",
       "           6      7       e          Uref         VAC  \n",
       "0      25.06  25.06 -1000.0  1.400000e-06    0.000927  \n",
       "1      25.06  25.06 -1000.0  7.000000e-07    0.000970  \n",
       "2      25.06  25.06 -1000.0  1.400000e-06    0.000933  \n",
       "3      25.06  25.06 -1000.0  1.009889e+01  224.522000  \n",
       "4      25.06  25.06 -1000.0  1.010075e+01  225.976000  \n",
       "...      ...    ...     ...           ...         ...  \n",
       "42490  26.31  26.31 -1000.0  1.010478e+01  227.414000  \n",
       "42491  26.31  26.31 -1000.0  1.010478e+01  228.031000  \n",
       "42492  26.38  26.31 -1000.0  1.010479e+01  228.122000  \n",
       "42493  26.31  26.31 -1000.0  1.010479e+01  228.304000  \n",
       "42494  26.31  26.31 -1000.0  1.010479e+01  228.506000  \n",
       "\n",
       "[42495 rows x 13 columns]"
      ]
     },
     "execution_count": 48,
     "metadata": {},
     "output_type": "execute_result"
    }
   ],
   "source": [
    "df"
   ]
  },
  {
   "cell_type": "code",
   "execution_count": 49,
   "id": "e7441ebc-8c21-4f9a-ba44-7e8749ba7dc1",
   "metadata": {},
   "outputs": [
    {
     "data": {
      "text/html": [
       "<div>\n",
       "<style scoped>\n",
       "    .dataframe tbody tr th:only-of-type {\n",
       "        vertical-align: middle;\n",
       "    }\n",
       "\n",
       "    .dataframe tbody tr th {\n",
       "        vertical-align: top;\n",
       "    }\n",
       "\n",
       "    .dataframe thead th {\n",
       "        text-align: right;\n",
       "    }\n",
       "</style>\n",
       "<table border=\"1\" class=\"dataframe\">\n",
       "  <thead>\n",
       "    <tr style=\"text-align: right;\">\n",
       "      <th></th>\n",
       "      <th>Date</th>\n",
       "      <th>Time</th>\n",
       "      <th>0</th>\n",
       "      <th>1</th>\n",
       "      <th>2</th>\n",
       "      <th>3</th>\n",
       "      <th>4</th>\n",
       "      <th>5</th>\n",
       "      <th>6</th>\n",
       "      <th>7</th>\n",
       "      <th>e</th>\n",
       "      <th>Uref</th>\n",
       "      <th>VAC</th>\n",
       "      <th>MeanTemp</th>\n",
       "    </tr>\n",
       "  </thead>\n",
       "  <tbody>\n",
       "    <tr>\n",
       "      <th>0</th>\n",
       "      <td>29.09.2023</td>\n",
       "      <td>22:15:23</td>\n",
       "      <td>24.88</td>\n",
       "      <td>25.06</td>\n",
       "      <td>24.88</td>\n",
       "      <td>25.06</td>\n",
       "      <td>25.13</td>\n",
       "      <td>25.06</td>\n",
       "      <td>25.06</td>\n",
       "      <td>25.06</td>\n",
       "      <td>-1000.0</td>\n",
       "      <td>1.400000e-06</td>\n",
       "      <td>0.000927</td>\n",
       "      <td>24.97</td>\n",
       "    </tr>\n",
       "    <tr>\n",
       "      <th>1</th>\n",
       "      <td>29.09.2023</td>\n",
       "      <td>22:15:32</td>\n",
       "      <td>24.88</td>\n",
       "      <td>25.06</td>\n",
       "      <td>24.94</td>\n",
       "      <td>25.06</td>\n",
       "      <td>25.13</td>\n",
       "      <td>25.06</td>\n",
       "      <td>25.06</td>\n",
       "      <td>25.06</td>\n",
       "      <td>-1000.0</td>\n",
       "      <td>7.000000e-07</td>\n",
       "      <td>0.000970</td>\n",
       "      <td>24.97</td>\n",
       "    </tr>\n",
       "    <tr>\n",
       "      <th>2</th>\n",
       "      <td>29.09.2023</td>\n",
       "      <td>22:15:37</td>\n",
       "      <td>24.88</td>\n",
       "      <td>25.06</td>\n",
       "      <td>24.94</td>\n",
       "      <td>25.06</td>\n",
       "      <td>25.13</td>\n",
       "      <td>25.06</td>\n",
       "      <td>25.06</td>\n",
       "      <td>25.06</td>\n",
       "      <td>-1000.0</td>\n",
       "      <td>1.400000e-06</td>\n",
       "      <td>0.000933</td>\n",
       "      <td>24.97</td>\n",
       "    </tr>\n",
       "    <tr>\n",
       "      <th>3</th>\n",
       "      <td>29.09.2023</td>\n",
       "      <td>22:15:42</td>\n",
       "      <td>24.88</td>\n",
       "      <td>25.06</td>\n",
       "      <td>24.94</td>\n",
       "      <td>25.06</td>\n",
       "      <td>25.13</td>\n",
       "      <td>25.06</td>\n",
       "      <td>25.06</td>\n",
       "      <td>25.06</td>\n",
       "      <td>-1000.0</td>\n",
       "      <td>1.009889e+01</td>\n",
       "      <td>224.522000</td>\n",
       "      <td>24.97</td>\n",
       "    </tr>\n",
       "    <tr>\n",
       "      <th>4</th>\n",
       "      <td>29.09.2023</td>\n",
       "      <td>22:15:47</td>\n",
       "      <td>24.88</td>\n",
       "      <td>25.06</td>\n",
       "      <td>24.94</td>\n",
       "      <td>25.06</td>\n",
       "      <td>25.13</td>\n",
       "      <td>25.06</td>\n",
       "      <td>25.06</td>\n",
       "      <td>25.06</td>\n",
       "      <td>-1000.0</td>\n",
       "      <td>1.010075e+01</td>\n",
       "      <td>225.976000</td>\n",
       "      <td>24.97</td>\n",
       "    </tr>\n",
       "    <tr>\n",
       "      <th>...</th>\n",
       "      <td>...</td>\n",
       "      <td>...</td>\n",
       "      <td>...</td>\n",
       "      <td>...</td>\n",
       "      <td>...</td>\n",
       "      <td>...</td>\n",
       "      <td>...</td>\n",
       "      <td>...</td>\n",
       "      <td>...</td>\n",
       "      <td>...</td>\n",
       "      <td>...</td>\n",
       "      <td>...</td>\n",
       "      <td>...</td>\n",
       "      <td>...</td>\n",
       "    </tr>\n",
       "    <tr>\n",
       "      <th>42490</th>\n",
       "      <td>02.10.2023</td>\n",
       "      <td>07:16:07</td>\n",
       "      <td>26.38</td>\n",
       "      <td>26.38</td>\n",
       "      <td>26.38</td>\n",
       "      <td>26.31</td>\n",
       "      <td>26.44</td>\n",
       "      <td>26.38</td>\n",
       "      <td>26.31</td>\n",
       "      <td>26.31</td>\n",
       "      <td>-1000.0</td>\n",
       "      <td>1.010478e+01</td>\n",
       "      <td>227.414000</td>\n",
       "      <td>26.38</td>\n",
       "    </tr>\n",
       "    <tr>\n",
       "      <th>42491</th>\n",
       "      <td>02.10.2023</td>\n",
       "      <td>07:16:12</td>\n",
       "      <td>26.38</td>\n",
       "      <td>26.38</td>\n",
       "      <td>26.38</td>\n",
       "      <td>26.31</td>\n",
       "      <td>26.38</td>\n",
       "      <td>26.38</td>\n",
       "      <td>26.31</td>\n",
       "      <td>26.31</td>\n",
       "      <td>-1000.0</td>\n",
       "      <td>1.010478e+01</td>\n",
       "      <td>228.031000</td>\n",
       "      <td>26.38</td>\n",
       "    </tr>\n",
       "    <tr>\n",
       "      <th>42492</th>\n",
       "      <td>02.10.2023</td>\n",
       "      <td>07:16:17</td>\n",
       "      <td>26.38</td>\n",
       "      <td>26.38</td>\n",
       "      <td>26.38</td>\n",
       "      <td>26.31</td>\n",
       "      <td>26.38</td>\n",
       "      <td>26.38</td>\n",
       "      <td>26.38</td>\n",
       "      <td>26.31</td>\n",
       "      <td>-1000.0</td>\n",
       "      <td>1.010479e+01</td>\n",
       "      <td>228.122000</td>\n",
       "      <td>26.38</td>\n",
       "    </tr>\n",
       "    <tr>\n",
       "      <th>42493</th>\n",
       "      <td>02.10.2023</td>\n",
       "      <td>07:16:22</td>\n",
       "      <td>26.38</td>\n",
       "      <td>26.38</td>\n",
       "      <td>26.38</td>\n",
       "      <td>26.31</td>\n",
       "      <td>26.38</td>\n",
       "      <td>26.38</td>\n",
       "      <td>26.31</td>\n",
       "      <td>26.31</td>\n",
       "      <td>-1000.0</td>\n",
       "      <td>1.010479e+01</td>\n",
       "      <td>228.304000</td>\n",
       "      <td>26.38</td>\n",
       "    </tr>\n",
       "    <tr>\n",
       "      <th>42494</th>\n",
       "      <td>02.10.2023</td>\n",
       "      <td>07:16:27</td>\n",
       "      <td>26.38</td>\n",
       "      <td>26.38</td>\n",
       "      <td>26.38</td>\n",
       "      <td>26.31</td>\n",
       "      <td>26.44</td>\n",
       "      <td>26.38</td>\n",
       "      <td>26.31</td>\n",
       "      <td>26.31</td>\n",
       "      <td>-1000.0</td>\n",
       "      <td>1.010479e+01</td>\n",
       "      <td>228.506000</td>\n",
       "      <td>26.38</td>\n",
       "    </tr>\n",
       "  </tbody>\n",
       "</table>\n",
       "<p>42495 rows × 14 columns</p>\n",
       "</div>"
      ],
      "text/plain": [
       "              Date        Time      0      1      2      3      4      5  \\\n",
       "0      29.09.2023    22:15:23   24.88  25.06  24.88  25.06  25.13  25.06   \n",
       "1      29.09.2023    22:15:32   24.88  25.06  24.94  25.06  25.13  25.06   \n",
       "2      29.09.2023    22:15:37   24.88  25.06  24.94  25.06  25.13  25.06   \n",
       "3      29.09.2023    22:15:42   24.88  25.06  24.94  25.06  25.13  25.06   \n",
       "4      29.09.2023    22:15:47   24.88  25.06  24.94  25.06  25.13  25.06   \n",
       "...            ...         ...    ...    ...    ...    ...    ...    ...   \n",
       "42490  02.10.2023    07:16:07   26.38  26.38  26.38  26.31  26.44  26.38   \n",
       "42491  02.10.2023    07:16:12   26.38  26.38  26.38  26.31  26.38  26.38   \n",
       "42492  02.10.2023    07:16:17   26.38  26.38  26.38  26.31  26.38  26.38   \n",
       "42493  02.10.2023    07:16:22   26.38  26.38  26.38  26.31  26.38  26.38   \n",
       "42494  02.10.2023    07:16:27   26.38  26.38  26.38  26.31  26.44  26.38   \n",
       "\n",
       "           6      7       e          Uref         VAC  MeanTemp  \n",
       "0      25.06  25.06 -1000.0  1.400000e-06    0.000927     24.97  \n",
       "1      25.06  25.06 -1000.0  7.000000e-07    0.000970     24.97  \n",
       "2      25.06  25.06 -1000.0  1.400000e-06    0.000933     24.97  \n",
       "3      25.06  25.06 -1000.0  1.009889e+01  224.522000     24.97  \n",
       "4      25.06  25.06 -1000.0  1.010075e+01  225.976000     24.97  \n",
       "...      ...    ...     ...           ...         ...       ...  \n",
       "42490  26.31  26.31 -1000.0  1.010478e+01  227.414000     26.38  \n",
       "42491  26.31  26.31 -1000.0  1.010478e+01  228.031000     26.38  \n",
       "42492  26.38  26.31 -1000.0  1.010479e+01  228.122000     26.38  \n",
       "42493  26.31  26.31 -1000.0  1.010479e+01  228.304000     26.38  \n",
       "42494  26.31  26.31 -1000.0  1.010479e+01  228.506000     26.38  \n",
       "\n",
       "[42495 rows x 14 columns]"
      ]
     },
     "execution_count": 49,
     "metadata": {},
     "output_type": "execute_result"
    }
   ],
   "source": [
    "df['MeanTemp'] = (df['0'] + df['1'])/2\n",
    "df"
   ]
  },
  {
   "cell_type": "code",
   "execution_count": 50,
   "id": "26bf5ef8-f55b-4488-a347-594eb9e751ff",
   "metadata": {},
   "outputs": [
    {
     "data": {
      "text/plain": [
       "Date        29.09.2023 29.09.2023 29.09.2023 29.09.2023 29...\n",
       "Time         22:15:23  22:15:32  22:15:37  22:15:42  22:15...\n",
       "0                                                  1091902.34\n",
       "1                                                  1089442.34\n",
       "2                                                  1090177.02\n",
       "3                                                  1086558.44\n",
       "4                                                  1091268.08\n",
       "5                                                  1092127.15\n",
       "6                                                  1086390.39\n",
       "7                                                  1088630.66\n",
       "e                                                 -42495000.0\n",
       "Uref                                            429371.974356\n",
       "VAC                                             9671576.47583\n",
       "MeanTemp                                           1090672.34\n",
       "dtype: object"
      ]
     },
     "execution_count": 50,
     "metadata": {},
     "output_type": "execute_result"
    }
   ],
   "source": [
    "df.sum()"
   ]
  },
  {
   "cell_type": "code",
   "execution_count": 51,
   "id": "593895b4-3913-4673-9db9-9ef7c393089b",
   "metadata": {},
   "outputs": [
    {
     "data": {
      "text/plain": [
       "(10.104803, 7e-07, 10.10405869762325)"
      ]
     },
     "execution_count": 51,
     "metadata": {},
     "output_type": "execute_result"
    }
   ],
   "source": [
    "df['Uref'].max(), df['Uref'].min(), df['Uref'].mean()"
   ]
  },
  {
   "cell_type": "code",
   "execution_count": 52,
   "id": "321130d5-d92e-4725-8898-2b626e9f80c8",
   "metadata": {},
   "outputs": [
    {
     "data": {
      "text/plain": [
       "5"
      ]
     },
     "execution_count": 52,
     "metadata": {},
     "output_type": "execute_result"
    }
   ],
   "source": [
    "df[(df['VAC'] < 218) & (df['VAC'] > 217.9)]['Uref'].count()"
   ]
  },
  {
   "cell_type": "code",
   "execution_count": 53,
   "id": "7b420a4b-4b0d-4a01-bef5-c42f7188202a",
   "metadata": {},
   "outputs": [
    {
     "name": "stderr",
     "output_type": "stream",
     "text": [
      "C:\\Temp\\ipykernel_15072\\294665246.py:1: FutureWarning: The provided callable <function mean at 0x00000260546D1120> is currently using SeriesGroupBy.mean. In a future version of pandas, the provided callable will be used directly. To keep current behavior pass the string \"mean\" instead.\n",
      "  df.groupby(['VAC'])['Uref'].agg(np.mean)\n"
     ]
    },
    {
     "data": {
      "text/plain": [
       "VAC\n",
       "0.000927      1.400000e-06\n",
       "0.000933      1.400000e-06\n",
       "0.000970      7.000000e-07\n",
       "215.895000    1.010476e+01\n",
       "216.106000    1.010476e+01\n",
       "                  ...     \n",
       "255.693000    1.010479e+01\n",
       "255.708000    1.010479e+01\n",
       "255.756000    1.010480e+01\n",
       "255.825000    1.010479e+01\n",
       "255.966000    1.010476e+01\n",
       "Name: Uref, Length: 10934, dtype: float64"
      ]
     },
     "execution_count": 53,
     "metadata": {},
     "output_type": "execute_result"
    }
   ],
   "source": [
    "df.groupby(['VAC'])['Uref'].agg(np.mean)"
   ]
  },
  {
   "cell_type": "code",
   "execution_count": 54,
   "id": "ff7b2b7c-bb0d-481a-a870-80de3aa309bc",
   "metadata": {},
   "outputs": [
    {
     "data": {
      "text/html": [
       "<div>\n",
       "<style scoped>\n",
       "    .dataframe tbody tr th:only-of-type {\n",
       "        vertical-align: middle;\n",
       "    }\n",
       "\n",
       "    .dataframe tbody tr th {\n",
       "        vertical-align: top;\n",
       "    }\n",
       "\n",
       "    .dataframe thead th {\n",
       "        text-align: right;\n",
       "    }\n",
       "</style>\n",
       "<table border=\"1\" class=\"dataframe\">\n",
       "  <thead>\n",
       "    <tr style=\"text-align: right;\">\n",
       "      <th></th>\n",
       "      <th>Date</th>\n",
       "      <th>Time</th>\n",
       "      <th>0</th>\n",
       "      <th>1</th>\n",
       "      <th>2</th>\n",
       "      <th>3</th>\n",
       "      <th>4</th>\n",
       "      <th>5</th>\n",
       "      <th>6</th>\n",
       "      <th>7</th>\n",
       "      <th>e</th>\n",
       "      <th>Uref</th>\n",
       "      <th>VAC</th>\n",
       "      <th>MeanTemp</th>\n",
       "    </tr>\n",
       "  </thead>\n",
       "  <tbody>\n",
       "    <tr>\n",
       "      <th>0</th>\n",
       "      <td>29.09.2023</td>\n",
       "      <td>22:15:23</td>\n",
       "      <td>24.88</td>\n",
       "      <td>25.06</td>\n",
       "      <td>24.88</td>\n",
       "      <td>25.06</td>\n",
       "      <td>25.13</td>\n",
       "      <td>25.06</td>\n",
       "      <td>25.06</td>\n",
       "      <td>25.06</td>\n",
       "      <td>-1000.0</td>\n",
       "      <td>1.400000e-06</td>\n",
       "      <td>0.000927</td>\n",
       "      <td>24.97</td>\n",
       "    </tr>\n",
       "    <tr>\n",
       "      <th>1</th>\n",
       "      <td>29.09.2023</td>\n",
       "      <td>22:15:32</td>\n",
       "      <td>24.88</td>\n",
       "      <td>25.06</td>\n",
       "      <td>24.94</td>\n",
       "      <td>25.06</td>\n",
       "      <td>25.13</td>\n",
       "      <td>25.06</td>\n",
       "      <td>25.06</td>\n",
       "      <td>25.06</td>\n",
       "      <td>-1000.0</td>\n",
       "      <td>7.000000e-07</td>\n",
       "      <td>0.000970</td>\n",
       "      <td>24.97</td>\n",
       "    </tr>\n",
       "    <tr>\n",
       "      <th>2</th>\n",
       "      <td>29.09.2023</td>\n",
       "      <td>22:15:37</td>\n",
       "      <td>24.88</td>\n",
       "      <td>25.06</td>\n",
       "      <td>24.94</td>\n",
       "      <td>25.06</td>\n",
       "      <td>25.13</td>\n",
       "      <td>25.06</td>\n",
       "      <td>25.06</td>\n",
       "      <td>25.06</td>\n",
       "      <td>-1000.0</td>\n",
       "      <td>1.400000e-06</td>\n",
       "      <td>0.000933</td>\n",
       "      <td>24.97</td>\n",
       "    </tr>\n",
       "    <tr>\n",
       "      <th>3</th>\n",
       "      <td>29.09.2023</td>\n",
       "      <td>22:15:42</td>\n",
       "      <td>24.88</td>\n",
       "      <td>25.06</td>\n",
       "      <td>24.94</td>\n",
       "      <td>25.06</td>\n",
       "      <td>25.13</td>\n",
       "      <td>25.06</td>\n",
       "      <td>25.06</td>\n",
       "      <td>25.06</td>\n",
       "      <td>-1000.0</td>\n",
       "      <td>1.009889e+01</td>\n",
       "      <td>224.522000</td>\n",
       "      <td>24.97</td>\n",
       "    </tr>\n",
       "    <tr>\n",
       "      <th>4</th>\n",
       "      <td>29.09.2023</td>\n",
       "      <td>22:15:47</td>\n",
       "      <td>24.88</td>\n",
       "      <td>25.06</td>\n",
       "      <td>24.94</td>\n",
       "      <td>25.06</td>\n",
       "      <td>25.13</td>\n",
       "      <td>25.06</td>\n",
       "      <td>25.06</td>\n",
       "      <td>25.06</td>\n",
       "      <td>-1000.0</td>\n",
       "      <td>1.010075e+01</td>\n",
       "      <td>225.976000</td>\n",
       "      <td>24.97</td>\n",
       "    </tr>\n",
       "    <tr>\n",
       "      <th>...</th>\n",
       "      <td>...</td>\n",
       "      <td>...</td>\n",
       "      <td>...</td>\n",
       "      <td>...</td>\n",
       "      <td>...</td>\n",
       "      <td>...</td>\n",
       "      <td>...</td>\n",
       "      <td>...</td>\n",
       "      <td>...</td>\n",
       "      <td>...</td>\n",
       "      <td>...</td>\n",
       "      <td>...</td>\n",
       "      <td>...</td>\n",
       "      <td>...</td>\n",
       "    </tr>\n",
       "    <tr>\n",
       "      <th>42490</th>\n",
       "      <td>02.10.2023</td>\n",
       "      <td>07:16:07</td>\n",
       "      <td>26.38</td>\n",
       "      <td>26.38</td>\n",
       "      <td>26.38</td>\n",
       "      <td>26.31</td>\n",
       "      <td>26.44</td>\n",
       "      <td>26.38</td>\n",
       "      <td>26.31</td>\n",
       "      <td>26.31</td>\n",
       "      <td>-1000.0</td>\n",
       "      <td>1.010478e+01</td>\n",
       "      <td>227.414000</td>\n",
       "      <td>26.38</td>\n",
       "    </tr>\n",
       "    <tr>\n",
       "      <th>42491</th>\n",
       "      <td>02.10.2023</td>\n",
       "      <td>07:16:12</td>\n",
       "      <td>26.38</td>\n",
       "      <td>26.38</td>\n",
       "      <td>26.38</td>\n",
       "      <td>26.31</td>\n",
       "      <td>26.38</td>\n",
       "      <td>26.38</td>\n",
       "      <td>26.31</td>\n",
       "      <td>26.31</td>\n",
       "      <td>-1000.0</td>\n",
       "      <td>1.010478e+01</td>\n",
       "      <td>228.031000</td>\n",
       "      <td>26.38</td>\n",
       "    </tr>\n",
       "    <tr>\n",
       "      <th>42492</th>\n",
       "      <td>02.10.2023</td>\n",
       "      <td>07:16:17</td>\n",
       "      <td>26.38</td>\n",
       "      <td>26.38</td>\n",
       "      <td>26.38</td>\n",
       "      <td>26.31</td>\n",
       "      <td>26.38</td>\n",
       "      <td>26.38</td>\n",
       "      <td>26.38</td>\n",
       "      <td>26.31</td>\n",
       "      <td>-1000.0</td>\n",
       "      <td>1.010479e+01</td>\n",
       "      <td>228.122000</td>\n",
       "      <td>26.38</td>\n",
       "    </tr>\n",
       "    <tr>\n",
       "      <th>42493</th>\n",
       "      <td>02.10.2023</td>\n",
       "      <td>07:16:22</td>\n",
       "      <td>26.38</td>\n",
       "      <td>26.38</td>\n",
       "      <td>26.38</td>\n",
       "      <td>26.31</td>\n",
       "      <td>26.38</td>\n",
       "      <td>26.38</td>\n",
       "      <td>26.31</td>\n",
       "      <td>26.31</td>\n",
       "      <td>-1000.0</td>\n",
       "      <td>1.010479e+01</td>\n",
       "      <td>228.304000</td>\n",
       "      <td>26.38</td>\n",
       "    </tr>\n",
       "    <tr>\n",
       "      <th>42494</th>\n",
       "      <td>02.10.2023</td>\n",
       "      <td>07:16:27</td>\n",
       "      <td>26.38</td>\n",
       "      <td>26.38</td>\n",
       "      <td>26.38</td>\n",
       "      <td>26.31</td>\n",
       "      <td>26.44</td>\n",
       "      <td>26.38</td>\n",
       "      <td>26.31</td>\n",
       "      <td>26.31</td>\n",
       "      <td>-1000.0</td>\n",
       "      <td>1.010479e+01</td>\n",
       "      <td>228.506000</td>\n",
       "      <td>26.38</td>\n",
       "    </tr>\n",
       "  </tbody>\n",
       "</table>\n",
       "<p>42495 rows × 14 columns</p>\n",
       "</div>"
      ],
      "text/plain": [
       "              Date        Time      0      1      2      3      4      5  \\\n",
       "0      29.09.2023    22:15:23   24.88  25.06  24.88  25.06  25.13  25.06   \n",
       "1      29.09.2023    22:15:32   24.88  25.06  24.94  25.06  25.13  25.06   \n",
       "2      29.09.2023    22:15:37   24.88  25.06  24.94  25.06  25.13  25.06   \n",
       "3      29.09.2023    22:15:42   24.88  25.06  24.94  25.06  25.13  25.06   \n",
       "4      29.09.2023    22:15:47   24.88  25.06  24.94  25.06  25.13  25.06   \n",
       "...            ...         ...    ...    ...    ...    ...    ...    ...   \n",
       "42490  02.10.2023    07:16:07   26.38  26.38  26.38  26.31  26.44  26.38   \n",
       "42491  02.10.2023    07:16:12   26.38  26.38  26.38  26.31  26.38  26.38   \n",
       "42492  02.10.2023    07:16:17   26.38  26.38  26.38  26.31  26.38  26.38   \n",
       "42493  02.10.2023    07:16:22   26.38  26.38  26.38  26.31  26.38  26.38   \n",
       "42494  02.10.2023    07:16:27   26.38  26.38  26.38  26.31  26.44  26.38   \n",
       "\n",
       "           6      7       e          Uref         VAC  MeanTemp  \n",
       "0      25.06  25.06 -1000.0  1.400000e-06    0.000927     24.97  \n",
       "1      25.06  25.06 -1000.0  7.000000e-07    0.000970     24.97  \n",
       "2      25.06  25.06 -1000.0  1.400000e-06    0.000933     24.97  \n",
       "3      25.06  25.06 -1000.0  1.009889e+01  224.522000     24.97  \n",
       "4      25.06  25.06 -1000.0  1.010075e+01  225.976000     24.97  \n",
       "...      ...    ...     ...           ...         ...       ...  \n",
       "42490  26.31  26.31 -1000.0  1.010478e+01  227.414000     26.38  \n",
       "42491  26.31  26.31 -1000.0  1.010478e+01  228.031000     26.38  \n",
       "42492  26.38  26.31 -1000.0  1.010479e+01  228.122000     26.38  \n",
       "42493  26.31  26.31 -1000.0  1.010479e+01  228.304000     26.38  \n",
       "42494  26.31  26.31 -1000.0  1.010479e+01  228.506000     26.38  \n",
       "\n",
       "[42495 rows x 14 columns]"
      ]
     },
     "execution_count": 54,
     "metadata": {},
     "output_type": "execute_result"
    }
   ],
   "source": [
    "df"
   ]
  },
  {
   "cell_type": "code",
   "execution_count": 55,
   "id": "f4b08323-1c2f-4b60-8c0f-f65d3d41100a",
   "metadata": {},
   "outputs": [
    {
     "data": {
      "text/html": [
       "<div>\n",
       "<style scoped>\n",
       "    .dataframe tbody tr th:only-of-type {\n",
       "        vertical-align: middle;\n",
       "    }\n",
       "\n",
       "    .dataframe tbody tr th {\n",
       "        vertical-align: top;\n",
       "    }\n",
       "\n",
       "    .dataframe thead th {\n",
       "        text-align: right;\n",
       "    }\n",
       "</style>\n",
       "<table border=\"1\" class=\"dataframe\">\n",
       "  <thead>\n",
       "    <tr style=\"text-align: right;\">\n",
       "      <th></th>\n",
       "      <th>Date</th>\n",
       "      <th>Time</th>\n",
       "      <th>0</th>\n",
       "      <th>1</th>\n",
       "      <th>2</th>\n",
       "      <th>3</th>\n",
       "      <th>4</th>\n",
       "      <th>5</th>\n",
       "      <th>6</th>\n",
       "      <th>7</th>\n",
       "      <th>e</th>\n",
       "      <th>Uref</th>\n",
       "      <th>VAC</th>\n",
       "      <th>MeanTemp</th>\n",
       "    </tr>\n",
       "  </thead>\n",
       "  <tbody>\n",
       "    <tr>\n",
       "      <th>0</th>\n",
       "      <td>29.09.2023</td>\n",
       "      <td>22:15:23</td>\n",
       "      <td>24.88</td>\n",
       "      <td>25.06</td>\n",
       "      <td>24.88</td>\n",
       "      <td>25.06</td>\n",
       "      <td>25.13</td>\n",
       "      <td>25.06</td>\n",
       "      <td>25.06</td>\n",
       "      <td>25.06</td>\n",
       "      <td>-1000.0</td>\n",
       "      <td>1.400000e-06</td>\n",
       "      <td>0.000927</td>\n",
       "      <td>24.97</td>\n",
       "    </tr>\n",
       "    <tr>\n",
       "      <th>1</th>\n",
       "      <td>29.09.2023</td>\n",
       "      <td>22:15:32</td>\n",
       "      <td>24.88</td>\n",
       "      <td>25.06</td>\n",
       "      <td>24.94</td>\n",
       "      <td>25.06</td>\n",
       "      <td>25.13</td>\n",
       "      <td>25.06</td>\n",
       "      <td>25.06</td>\n",
       "      <td>25.06</td>\n",
       "      <td>-1000.0</td>\n",
       "      <td>7.000000e-07</td>\n",
       "      <td>0.000970</td>\n",
       "      <td>24.97</td>\n",
       "    </tr>\n",
       "    <tr>\n",
       "      <th>2</th>\n",
       "      <td>29.09.2023</td>\n",
       "      <td>22:15:37</td>\n",
       "      <td>24.88</td>\n",
       "      <td>25.06</td>\n",
       "      <td>24.94</td>\n",
       "      <td>25.06</td>\n",
       "      <td>25.13</td>\n",
       "      <td>25.06</td>\n",
       "      <td>25.06</td>\n",
       "      <td>25.06</td>\n",
       "      <td>-1000.0</td>\n",
       "      <td>1.400000e-06</td>\n",
       "      <td>0.000933</td>\n",
       "      <td>24.97</td>\n",
       "    </tr>\n",
       "    <tr>\n",
       "      <th>3</th>\n",
       "      <td>29.09.2023</td>\n",
       "      <td>22:15:42</td>\n",
       "      <td>24.88</td>\n",
       "      <td>25.06</td>\n",
       "      <td>24.94</td>\n",
       "      <td>25.06</td>\n",
       "      <td>25.13</td>\n",
       "      <td>25.06</td>\n",
       "      <td>25.06</td>\n",
       "      <td>25.06</td>\n",
       "      <td>-1000.0</td>\n",
       "      <td>1.009889e+01</td>\n",
       "      <td>224.522000</td>\n",
       "      <td>24.97</td>\n",
       "    </tr>\n",
       "    <tr>\n",
       "      <th>4</th>\n",
       "      <td>29.09.2023</td>\n",
       "      <td>22:15:47</td>\n",
       "      <td>24.88</td>\n",
       "      <td>25.06</td>\n",
       "      <td>24.94</td>\n",
       "      <td>25.06</td>\n",
       "      <td>25.13</td>\n",
       "      <td>25.06</td>\n",
       "      <td>25.06</td>\n",
       "      <td>25.06</td>\n",
       "      <td>-1000.0</td>\n",
       "      <td>1.010075e+01</td>\n",
       "      <td>225.976000</td>\n",
       "      <td>24.97</td>\n",
       "    </tr>\n",
       "    <tr>\n",
       "      <th>...</th>\n",
       "      <td>...</td>\n",
       "      <td>...</td>\n",
       "      <td>...</td>\n",
       "      <td>...</td>\n",
       "      <td>...</td>\n",
       "      <td>...</td>\n",
       "      <td>...</td>\n",
       "      <td>...</td>\n",
       "      <td>...</td>\n",
       "      <td>...</td>\n",
       "      <td>...</td>\n",
       "      <td>...</td>\n",
       "      <td>...</td>\n",
       "      <td>...</td>\n",
       "    </tr>\n",
       "    <tr>\n",
       "      <th>42490</th>\n",
       "      <td>02.10.2023</td>\n",
       "      <td>07:16:07</td>\n",
       "      <td>26.38</td>\n",
       "      <td>26.38</td>\n",
       "      <td>26.38</td>\n",
       "      <td>26.31</td>\n",
       "      <td>26.44</td>\n",
       "      <td>26.38</td>\n",
       "      <td>26.31</td>\n",
       "      <td>26.31</td>\n",
       "      <td>-1000.0</td>\n",
       "      <td>1.010478e+01</td>\n",
       "      <td>227.414000</td>\n",
       "      <td>26.38</td>\n",
       "    </tr>\n",
       "    <tr>\n",
       "      <th>42491</th>\n",
       "      <td>02.10.2023</td>\n",
       "      <td>07:16:12</td>\n",
       "      <td>26.38</td>\n",
       "      <td>26.38</td>\n",
       "      <td>26.38</td>\n",
       "      <td>26.31</td>\n",
       "      <td>26.38</td>\n",
       "      <td>26.38</td>\n",
       "      <td>26.31</td>\n",
       "      <td>26.31</td>\n",
       "      <td>-1000.0</td>\n",
       "      <td>1.010478e+01</td>\n",
       "      <td>228.031000</td>\n",
       "      <td>26.38</td>\n",
       "    </tr>\n",
       "    <tr>\n",
       "      <th>42492</th>\n",
       "      <td>02.10.2023</td>\n",
       "      <td>07:16:17</td>\n",
       "      <td>26.38</td>\n",
       "      <td>26.38</td>\n",
       "      <td>26.38</td>\n",
       "      <td>26.31</td>\n",
       "      <td>26.38</td>\n",
       "      <td>26.38</td>\n",
       "      <td>26.38</td>\n",
       "      <td>26.31</td>\n",
       "      <td>-1000.0</td>\n",
       "      <td>1.010479e+01</td>\n",
       "      <td>228.122000</td>\n",
       "      <td>26.38</td>\n",
       "    </tr>\n",
       "    <tr>\n",
       "      <th>42493</th>\n",
       "      <td>02.10.2023</td>\n",
       "      <td>07:16:22</td>\n",
       "      <td>26.38</td>\n",
       "      <td>26.38</td>\n",
       "      <td>26.38</td>\n",
       "      <td>26.31</td>\n",
       "      <td>26.38</td>\n",
       "      <td>26.38</td>\n",
       "      <td>26.31</td>\n",
       "      <td>26.31</td>\n",
       "      <td>-1000.0</td>\n",
       "      <td>1.010479e+01</td>\n",
       "      <td>228.304000</td>\n",
       "      <td>26.38</td>\n",
       "    </tr>\n",
       "    <tr>\n",
       "      <th>42494</th>\n",
       "      <td>02.10.2023</td>\n",
       "      <td>07:16:27</td>\n",
       "      <td>26.38</td>\n",
       "      <td>26.38</td>\n",
       "      <td>26.38</td>\n",
       "      <td>26.31</td>\n",
       "      <td>26.44</td>\n",
       "      <td>26.38</td>\n",
       "      <td>26.31</td>\n",
       "      <td>26.31</td>\n",
       "      <td>-1000.0</td>\n",
       "      <td>1.010479e+01</td>\n",
       "      <td>228.506000</td>\n",
       "      <td>26.38</td>\n",
       "    </tr>\n",
       "  </tbody>\n",
       "</table>\n",
       "<p>42495 rows × 14 columns</p>\n",
       "</div>"
      ],
      "text/plain": [
       "              Date        Time      0      1      2      3      4      5  \\\n",
       "0      29.09.2023    22:15:23   24.88  25.06  24.88  25.06  25.13  25.06   \n",
       "1      29.09.2023    22:15:32   24.88  25.06  24.94  25.06  25.13  25.06   \n",
       "2      29.09.2023    22:15:37   24.88  25.06  24.94  25.06  25.13  25.06   \n",
       "3      29.09.2023    22:15:42   24.88  25.06  24.94  25.06  25.13  25.06   \n",
       "4      29.09.2023    22:15:47   24.88  25.06  24.94  25.06  25.13  25.06   \n",
       "...            ...         ...    ...    ...    ...    ...    ...    ...   \n",
       "42490  02.10.2023    07:16:07   26.38  26.38  26.38  26.31  26.44  26.38   \n",
       "42491  02.10.2023    07:16:12   26.38  26.38  26.38  26.31  26.38  26.38   \n",
       "42492  02.10.2023    07:16:17   26.38  26.38  26.38  26.31  26.38  26.38   \n",
       "42493  02.10.2023    07:16:22   26.38  26.38  26.38  26.31  26.38  26.38   \n",
       "42494  02.10.2023    07:16:27   26.38  26.38  26.38  26.31  26.44  26.38   \n",
       "\n",
       "           6      7       e          Uref         VAC  MeanTemp  \n",
       "0      25.06  25.06 -1000.0  1.400000e-06    0.000927     24.97  \n",
       "1      25.06  25.06 -1000.0  7.000000e-07    0.000970     24.97  \n",
       "2      25.06  25.06 -1000.0  1.400000e-06    0.000933     24.97  \n",
       "3      25.06  25.06 -1000.0  1.009889e+01  224.522000     24.97  \n",
       "4      25.06  25.06 -1000.0  1.010075e+01  225.976000     24.97  \n",
       "...      ...    ...     ...           ...         ...       ...  \n",
       "42490  26.31  26.31 -1000.0  1.010478e+01  227.414000     26.38  \n",
       "42491  26.31  26.31 -1000.0  1.010478e+01  228.031000     26.38  \n",
       "42492  26.38  26.31 -1000.0  1.010479e+01  228.122000     26.38  \n",
       "42493  26.31  26.31 -1000.0  1.010479e+01  228.304000     26.38  \n",
       "42494  26.31  26.31 -1000.0  1.010479e+01  228.506000     26.38  \n",
       "\n",
       "[42495 rows x 14 columns]"
      ]
     },
     "execution_count": 55,
     "metadata": {},
     "output_type": "execute_result"
    }
   ],
   "source": [
    "df"
   ]
  },
  {
   "cell_type": "code",
   "execution_count": 56,
   "id": "436a755e-5a72-4ff5-b390-3006268c493b",
   "metadata": {},
   "outputs": [
    {
     "data": {
      "text/plain": [
       "<Axes: >"
      ]
     },
     "execution_count": 56,
     "metadata": {},
     "output_type": "execute_result"
    },
    {
     "data": {
      "image/png": "[encoded data removed]",
      "text/plain": [
       "<Figure size 640x480 with 1 Axes>"
      ]
     },
     "metadata": {},
     "output_type": "display_data"
    }
   ],
   "source": [
    "df['VAC'].plot()"
   ]
  },
  {
   "cell_type": "code",
   "execution_count": 58,
   "id": "ffb2ded2-b31a-4f5b-af17-5b8af16440eb",
   "metadata": {},
   "outputs": [
    {
     "data": {
      "text/plain": [
       "<Axes: >"
      ]
     },
     "execution_count": 58,
     "metadata": {},
     "output_type": "execute_result"
    },
    {
     "data": {
      "image/png": "[encoded data removed]",
      "text/plain": [
       "<Figure size 640x480 with 1 Axes>"
      ]
     },
     "metadata": {},
     "output_type": "display_data"
    }
   ],
   "source": [
    "df['VAC'].plot()\n",
    "df['Uref'].plot()"
   ]
  }
 ],
 "metadata": {
  "kernelspec": {
   "display_name": "Python 3 (ipykernel)",
   "language": "python",
   "name": "python3"
  },
  "language_info": {
   "codemirror_mode": {
    "name": "ipython",
    "version": 3
   },
   "file_extension": ".py",
   "mimetype": "text/x-python",
   "name": "python",
   "nbconvert_exporter": "python",
   "pygments_lexer": "ipython3",
   "version": "3.11.4"
  }
 },
 "nbformat": 4,
 "nbformat_minor": 5
}
